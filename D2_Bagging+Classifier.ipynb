{
  "nbformat": 4,
  "nbformat_minor": 0,
  "metadata": {
    "colab": {
      "provenance": []
    },
    "kernelspec": {
      "name": "python3",
      "display_name": "Python 3"
    },
    "language_info": {
      "name": "python"
    }
  },
  "cells": [
    {
      "cell_type": "code",
      "execution_count": null,
      "metadata": {
        "id": "mvPDT7RdhnqX"
      },
      "outputs": [],
      "source": [
        "import numpy as np\n",
        "from sklearn.model_selection import train_test_split\n",
        "from sklearn.ensemble import BaggingClassifier\n",
        "from sklearn.naive_bayes import GaussianNB\n",
        "from sklearn.metrics import accuracy_score\n"
      ]
    },
    {
      "cell_type": "code",
      "source": [
        "\n",
        "X = np.array([1, 2, 3, 4, 5, 6, 7, 8, 9, 10, 11, 12])  # Satu fitur\n",
        "# Reshape X agar menjadi array 2D\n",
        "X = X.reshape(-1, 1)\n",
        "Y = np.array([0, 1, 0, 1, 0, 1, 0, 1, 0, 1, 0, 1])  # Target untuk klasifikasi\n"
      ],
      "metadata": {
        "id": "cg9PHZMikqYM"
      },
      "execution_count": null,
      "outputs": []
    },
    {
      "cell_type": "code",
      "source": [
        "# Split data untuk\n",
        "X_train, X_test, Y_train, Y_test = train_test_split(X, Y, test_size=0.25, random_state=42)"
      ],
      "metadata": {
        "id": "Ca31YaHJkqbU"
      },
      "execution_count": null,
      "outputs": []
    },
    {
      "cell_type": "code",
      "source": [
        "print (X_train)\n",
        "print (Y_train)"
      ],
      "metadata": {
        "colab": {
          "base_uri": "https://localhost:8080/"
        },
        "id": "fgAxQ4Whkqed",
        "outputId": "d6677862-0bd4-4c39-e399-084edbc278a5"
      },
      "execution_count": null,
      "outputs": [
        {
          "output_type": "stream",
          "name": "stdout",
          "text": [
            "[[ 9]\n",
            " [ 6]\n",
            " [ 3]\n",
            " [ 2]\n",
            " [12]\n",
            " [ 5]\n",
            " [ 8]\n",
            " [ 4]\n",
            " [ 7]]\n",
            "[0 1 0 1 1 0 1 1 0]\n"
          ]
        }
      ]
    },
    {
      "cell_type": "code",
      "source": [
        "from sklearn.naive_bayes import GaussianNB\n",
        "\n",
        "# Bagging Classifier dengan Naive Bayes sebagai base estimator\n",
        "be_c = GaussianNB()\n",
        "model = BaggingClassifier(be_c, n_estimators=15, random_state=42)\n",
        "model.fit(X_train, Y_train)\n",
        "\n",
        "# Prediksi dan evaluasi\n",
        "Y_pred = model.predict(X_test)\n",
        "accuracy = accuracy_score(Y_test, Y_pred)\n",
        "print(\"Accuracy for Bagging Classifier (Naive Bayes):\", accuracy)\n"
      ],
      "metadata": {
        "colab": {
          "base_uri": "https://localhost:8080/"
        },
        "id": "a3GY1yVDkqhq",
        "outputId": "d4147088-2e13-46a4-dc4d-aab362de84b2"
      },
      "execution_count": null,
      "outputs": [
        {
          "output_type": "stream",
          "name": "stdout",
          "text": [
            "Accuracy for Bagging Classifier (Naive Bayes): 0.3333333333333333\n"
          ]
        }
      ]
    },
    {
      "cell_type": "code",
      "source": [
        "print(\"Data tiap model bootsrap:\")\n",
        "for i, samples in enumerate(model.estimators_samples_, start=1):\n",
        "    print(f\"Data model {i} = {X_train[samples].flatten()}\")"
      ],
      "metadata": {
        "colab": {
          "base_uri": "https://localhost:8080/"
        },
        "id": "b3lzVVcGoOdS",
        "outputId": "95a294b1-e9fc-4085-8e40-35da08785174"
      },
      "execution_count": null,
      "outputs": [
        {
          "output_type": "stream",
          "name": "stdout",
          "text": [
            "Data tiap model bootsrap:\n",
            "Data model 1 = [ 3  4  4  7  2  3  7 12  8]\n",
            "Data model 2 = [4 2 4 2 5 2 9 2 7]\n",
            "Data model 3 = [8 9 4 4 7 5 7 3 5]\n",
            "Data model 4 = [ 9  5  4 12  6  2  8  3  5]\n",
            "Data model 5 = [8 8 2 2 7 2 4 7 8]\n",
            "Data model 6 = [5 3 6 3 4 2 6 2 8]\n",
            "Data model 7 = [2 3 6 5 3 2 6 5 5]\n",
            "Data model 8 = [ 8  3  7  3  5  9 12  2  5]\n",
            "Data model 9 = [ 7 12 12  2  3  2  8  7  2]\n",
            "Data model 10 = [7 6 7 9 4 8 7 6 6]\n",
            "Data model 11 = [ 2  3  7 12  8  8  2 12  3]\n",
            "Data model 12 = [12  4  7  8  4  6  4  3  7]\n",
            "Data model 13 = [ 2 12  7  8  6  5  3 12  2]\n",
            "Data model 14 = [ 9  8  4 12  9  5  5  8  9]\n",
            "Data model 15 = [ 9  7  3  9  3  8  9  2 12]\n"
          ]
        }
      ]
    },
    {
      "cell_type": "code",
      "source": [
        "# Loop untuk menampilkan akurasi setiap estimator\n",
        "print(\"Akurasi tiap model:\")\n",
        "for i, estimator in enumerate(model.estimators_, start=1):\n",
        "    # Prediksi menggunakan estimator ke-i\n",
        "    y_pred = estimator.predict(X_test)\n",
        "    acc = accuracy_score(Y_test, y_pred)\n",
        "    print(f\"model {i}  = {acc:.4f}\")"
      ],
      "metadata": {
        "colab": {
          "base_uri": "https://localhost:8080/"
        },
        "id": "gX5Q6mg3pGIQ",
        "outputId": "389c23e2-037c-4fce-de67-95ec7989389e"
      },
      "execution_count": null,
      "outputs": [
        {
          "output_type": "stream",
          "name": "stdout",
          "text": [
            "Akurasi tiap Boostrap:\n",
            "Boostrap 1  = 0.3333\n",
            "Boostrap 2  = 0.3333\n",
            "Boostrap 3  = 0.3333\n",
            "Boostrap 4  = 0.3333\n",
            "Boostrap 5  = 0.3333\n",
            "Boostrap 6  = 0.3333\n",
            "Boostrap 7  = 0.3333\n",
            "Boostrap 8  = 0.6667\n",
            "Boostrap 9  = 0.3333\n",
            "Boostrap 10  = 0.0000\n",
            "Boostrap 11  = 0.3333\n",
            "Boostrap 12  = 0.3333\n",
            "Boostrap 13  = 0.3333\n",
            "Boostrap 14  = 0.3333\n",
            "Boostrap 15  = 0.6667\n"
          ]
        }
      ]
    }
  ]
}
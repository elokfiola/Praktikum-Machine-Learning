{
  "nbformat": 4,
  "nbformat_minor": 0,
  "metadata": {
    "colab": {
      "provenance": []
    },
    "kernelspec": {
      "name": "python3",
      "display_name": "Python 3"
    },
    "language_info": {
      "name": "python"
    }
  },
  "cells": [
    {
      "cell_type": "markdown",
      "source": [
        "#Tugas Mandiri Praktikum PM Modul 4\n",
        "**Nama**: Elok Fiola      \n",
        "**NIM**: 122450051   \n",
        "**Kelas**: RC"
      ],
      "metadata": {
        "id": "wvE6bTgSMWsL"
      }
    },
    {
      "cell_type": "markdown",
      "source": [
        "## Soal 1\n",
        "Terdapat delapan titik yang akan dikelompokkan menggunakan algoritma K-Means.\n",
        "Berikut adalah koordinat (X,Y) dari titik-titik tersebut:    \n",
        "- Langkah pertama, centroid awal dipilih secara acak yaitu: G(2,2) dan H(3,2).\n",
        "- Hitung jarak Euclidean dari setiap titik ke centroid awal dan kelompokkan titik-titik\n",
        "ke dalam dua klaster berdasarkan jarak terdekat.\n",
        "- Hitung centroid baru dari setiap klaster."
      ],
      "metadata": {
        "id": "OVQju3A9MdHS"
      }
    },
    {
      "cell_type": "markdown",
      "source": [
        "### Iterasi 1"
      ],
      "metadata": {
        "id": "w0rEiZDbNxuV"
      }
    },
    {
      "cell_type": "code",
      "execution_count": null,
      "metadata": {
        "id": "EXTaN0SALgH3"
      },
      "outputs": [],
      "source": [
        "#Import pustaka atau library yang akna digunakan\n",
        "import numpy as np\n",
        "import pandas as pd"
      ]
    },
    {
      "cell_type": "code",
      "source": [
        "#Masukan dataset yang akan digunakan\n",
        "#Dtaa titik (X, Y)\n",
        "data = {\n",
        "    'A': [2,4],\n",
        "    'B': [4,4],\n",
        "    'C': [5,4],\n",
        "    'D': [6,4],\n",
        "    'E': [2,3],\n",
        "    'F': [5,3],\n",
        "    'G': [2,2],\n",
        "    'H': [3,2]\n",
        "}\n",
        "\n",
        "data = pd.DataFrame(data)\n",
        "data"
      ],
      "metadata": {
        "colab": {
          "base_uri": "https://localhost:8080/",
          "height": 125
        },
        "id": "_JGXGTsJMv4k",
        "outputId": "e0ccf830-88c9-4353-c473-61aef004c49a"
      },
      "execution_count": null,
      "outputs": [
        {
          "output_type": "execute_result",
          "data": {
            "text/plain": [
              "   A  B  C  D  E  F  G  H\n",
              "0  2  4  5  6  2  5  2  3\n",
              "1  4  4  4  4  3  3  2  2"
            ],
            "text/html": [
              "\n",
              "  <div id=\"df-7d3500b8-63cc-45c3-a603-f5a8d5309052\" class=\"colab-df-container\">\n",
              "    <div>\n",
              "<style scoped>\n",
              "    .dataframe tbody tr th:only-of-type {\n",
              "        vertical-align: middle;\n",
              "    }\n",
              "\n",
              "    .dataframe tbody tr th {\n",
              "        vertical-align: top;\n",
              "    }\n",
              "\n",
              "    .dataframe thead th {\n",
              "        text-align: right;\n",
              "    }\n",
              "</style>\n",
              "<table border=\"1\" class=\"dataframe\">\n",
              "  <thead>\n",
              "    <tr style=\"text-align: right;\">\n",
              "      <th></th>\n",
              "      <th>A</th>\n",
              "      <th>B</th>\n",
              "      <th>C</th>\n",
              "      <th>D</th>\n",
              "      <th>E</th>\n",
              "      <th>F</th>\n",
              "      <th>G</th>\n",
              "      <th>H</th>\n",
              "    </tr>\n",
              "  </thead>\n",
              "  <tbody>\n",
              "    <tr>\n",
              "      <th>0</th>\n",
              "      <td>2</td>\n",
              "      <td>4</td>\n",
              "      <td>5</td>\n",
              "      <td>6</td>\n",
              "      <td>2</td>\n",
              "      <td>5</td>\n",
              "      <td>2</td>\n",
              "      <td>3</td>\n",
              "    </tr>\n",
              "    <tr>\n",
              "      <th>1</th>\n",
              "      <td>4</td>\n",
              "      <td>4</td>\n",
              "      <td>4</td>\n",
              "      <td>4</td>\n",
              "      <td>3</td>\n",
              "      <td>3</td>\n",
              "      <td>2</td>\n",
              "      <td>2</td>\n",
              "    </tr>\n",
              "  </tbody>\n",
              "</table>\n",
              "</div>\n",
              "    <div class=\"colab-df-buttons\">\n",
              "\n",
              "  <div class=\"colab-df-container\">\n",
              "    <button class=\"colab-df-convert\" onclick=\"convertToInteractive('df-7d3500b8-63cc-45c3-a603-f5a8d5309052')\"\n",
              "            title=\"Convert this dataframe to an interactive table.\"\n",
              "            style=\"display:none;\">\n",
              "\n",
              "  <svg xmlns=\"http://www.w3.org/2000/svg\" height=\"24px\" viewBox=\"0 -960 960 960\">\n",
              "    <path d=\"M120-120v-720h720v720H120Zm60-500h600v-160H180v160Zm220 220h160v-160H400v160Zm0 220h160v-160H400v160ZM180-400h160v-160H180v160Zm440 0h160v-160H620v160ZM180-180h160v-160H180v160Zm440 0h160v-160H620v160Z\"/>\n",
              "  </svg>\n",
              "    </button>\n",
              "\n",
              "  <style>\n",
              "    .colab-df-container {\n",
              "      display:flex;\n",
              "      gap: 12px;\n",
              "    }\n",
              "\n",
              "    .colab-df-convert {\n",
              "      background-color: #E8F0FE;\n",
              "      border: none;\n",
              "      border-radius: 50%;\n",
              "      cursor: pointer;\n",
              "      display: none;\n",
              "      fill: #1967D2;\n",
              "      height: 32px;\n",
              "      padding: 0 0 0 0;\n",
              "      width: 32px;\n",
              "    }\n",
              "\n",
              "    .colab-df-convert:hover {\n",
              "      background-color: #E2EBFA;\n",
              "      box-shadow: 0px 1px 2px rgba(60, 64, 67, 0.3), 0px 1px 3px 1px rgba(60, 64, 67, 0.15);\n",
              "      fill: #174EA6;\n",
              "    }\n",
              "\n",
              "    .colab-df-buttons div {\n",
              "      margin-bottom: 4px;\n",
              "    }\n",
              "\n",
              "    [theme=dark] .colab-df-convert {\n",
              "      background-color: #3B4455;\n",
              "      fill: #D2E3FC;\n",
              "    }\n",
              "\n",
              "    [theme=dark] .colab-df-convert:hover {\n",
              "      background-color: #434B5C;\n",
              "      box-shadow: 0px 1px 3px 1px rgba(0, 0, 0, 0.15);\n",
              "      filter: drop-shadow(0px 1px 2px rgba(0, 0, 0, 0.3));\n",
              "      fill: #FFFFFF;\n",
              "    }\n",
              "  </style>\n",
              "\n",
              "    <script>\n",
              "      const buttonEl =\n",
              "        document.querySelector('#df-7d3500b8-63cc-45c3-a603-f5a8d5309052 button.colab-df-convert');\n",
              "      buttonEl.style.display =\n",
              "        google.colab.kernel.accessAllowed ? 'block' : 'none';\n",
              "\n",
              "      async function convertToInteractive(key) {\n",
              "        const element = document.querySelector('#df-7d3500b8-63cc-45c3-a603-f5a8d5309052');\n",
              "        const dataTable =\n",
              "          await google.colab.kernel.invokeFunction('convertToInteractive',\n",
              "                                                    [key], {});\n",
              "        if (!dataTable) return;\n",
              "\n",
              "        const docLinkHtml = 'Like what you see? Visit the ' +\n",
              "          '<a target=\"_blank\" href=https://colab.research.google.com/notebooks/data_table.ipynb>data table notebook</a>'\n",
              "          + ' to learn more about interactive tables.';\n",
              "        element.innerHTML = '';\n",
              "        dataTable['output_type'] = 'display_data';\n",
              "        await google.colab.output.renderOutput(dataTable, element);\n",
              "        const docLink = document.createElement('div');\n",
              "        docLink.innerHTML = docLinkHtml;\n",
              "        element.appendChild(docLink);\n",
              "      }\n",
              "    </script>\n",
              "  </div>\n",
              "\n",
              "\n",
              "<div id=\"df-0a6b4da7-0ae8-417e-a679-fc8c52ff4f4c\">\n",
              "  <button class=\"colab-df-quickchart\" onclick=\"quickchart('df-0a6b4da7-0ae8-417e-a679-fc8c52ff4f4c')\"\n",
              "            title=\"Suggest charts\"\n",
              "            style=\"display:none;\">\n",
              "\n",
              "<svg xmlns=\"http://www.w3.org/2000/svg\" height=\"24px\"viewBox=\"0 0 24 24\"\n",
              "     width=\"24px\">\n",
              "    <g>\n",
              "        <path d=\"M19 3H5c-1.1 0-2 .9-2 2v14c0 1.1.9 2 2 2h14c1.1 0 2-.9 2-2V5c0-1.1-.9-2-2-2zM9 17H7v-7h2v7zm4 0h-2V7h2v10zm4 0h-2v-4h2v4z\"/>\n",
              "    </g>\n",
              "</svg>\n",
              "  </button>\n",
              "\n",
              "<style>\n",
              "  .colab-df-quickchart {\n",
              "      --bg-color: #E8F0FE;\n",
              "      --fill-color: #1967D2;\n",
              "      --hover-bg-color: #E2EBFA;\n",
              "      --hover-fill-color: #174EA6;\n",
              "      --disabled-fill-color: #AAA;\n",
              "      --disabled-bg-color: #DDD;\n",
              "  }\n",
              "\n",
              "  [theme=dark] .colab-df-quickchart {\n",
              "      --bg-color: #3B4455;\n",
              "      --fill-color: #D2E3FC;\n",
              "      --hover-bg-color: #434B5C;\n",
              "      --hover-fill-color: #FFFFFF;\n",
              "      --disabled-bg-color: #3B4455;\n",
              "      --disabled-fill-color: #666;\n",
              "  }\n",
              "\n",
              "  .colab-df-quickchart {\n",
              "    background-color: var(--bg-color);\n",
              "    border: none;\n",
              "    border-radius: 50%;\n",
              "    cursor: pointer;\n",
              "    display: none;\n",
              "    fill: var(--fill-color);\n",
              "    height: 32px;\n",
              "    padding: 0;\n",
              "    width: 32px;\n",
              "  }\n",
              "\n",
              "  .colab-df-quickchart:hover {\n",
              "    background-color: var(--hover-bg-color);\n",
              "    box-shadow: 0 1px 2px rgba(60, 64, 67, 0.3), 0 1px 3px 1px rgba(60, 64, 67, 0.15);\n",
              "    fill: var(--button-hover-fill-color);\n",
              "  }\n",
              "\n",
              "  .colab-df-quickchart-complete:disabled,\n",
              "  .colab-df-quickchart-complete:disabled:hover {\n",
              "    background-color: var(--disabled-bg-color);\n",
              "    fill: var(--disabled-fill-color);\n",
              "    box-shadow: none;\n",
              "  }\n",
              "\n",
              "  .colab-df-spinner {\n",
              "    border: 2px solid var(--fill-color);\n",
              "    border-color: transparent;\n",
              "    border-bottom-color: var(--fill-color);\n",
              "    animation:\n",
              "      spin 1s steps(1) infinite;\n",
              "  }\n",
              "\n",
              "  @keyframes spin {\n",
              "    0% {\n",
              "      border-color: transparent;\n",
              "      border-bottom-color: var(--fill-color);\n",
              "      border-left-color: var(--fill-color);\n",
              "    }\n",
              "    20% {\n",
              "      border-color: transparent;\n",
              "      border-left-color: var(--fill-color);\n",
              "      border-top-color: var(--fill-color);\n",
              "    }\n",
              "    30% {\n",
              "      border-color: transparent;\n",
              "      border-left-color: var(--fill-color);\n",
              "      border-top-color: var(--fill-color);\n",
              "      border-right-color: var(--fill-color);\n",
              "    }\n",
              "    40% {\n",
              "      border-color: transparent;\n",
              "      border-right-color: var(--fill-color);\n",
              "      border-top-color: var(--fill-color);\n",
              "    }\n",
              "    60% {\n",
              "      border-color: transparent;\n",
              "      border-right-color: var(--fill-color);\n",
              "    }\n",
              "    80% {\n",
              "      border-color: transparent;\n",
              "      border-right-color: var(--fill-color);\n",
              "      border-bottom-color: var(--fill-color);\n",
              "    }\n",
              "    90% {\n",
              "      border-color: transparent;\n",
              "      border-bottom-color: var(--fill-color);\n",
              "    }\n",
              "  }\n",
              "</style>\n",
              "\n",
              "  <script>\n",
              "    async function quickchart(key) {\n",
              "      const quickchartButtonEl =\n",
              "        document.querySelector('#' + key + ' button');\n",
              "      quickchartButtonEl.disabled = true;  // To prevent multiple clicks.\n",
              "      quickchartButtonEl.classList.add('colab-df-spinner');\n",
              "      try {\n",
              "        const charts = await google.colab.kernel.invokeFunction(\n",
              "            'suggestCharts', [key], {});\n",
              "      } catch (error) {\n",
              "        console.error('Error during call to suggestCharts:', error);\n",
              "      }\n",
              "      quickchartButtonEl.classList.remove('colab-df-spinner');\n",
              "      quickchartButtonEl.classList.add('colab-df-quickchart-complete');\n",
              "    }\n",
              "    (() => {\n",
              "      let quickchartButtonEl =\n",
              "        document.querySelector('#df-0a6b4da7-0ae8-417e-a679-fc8c52ff4f4c button');\n",
              "      quickchartButtonEl.style.display =\n",
              "        google.colab.kernel.accessAllowed ? 'block' : 'none';\n",
              "    })();\n",
              "  </script>\n",
              "</div>\n",
              "\n",
              "  <div id=\"id_1cd64c59-3643-4084-919f-ce1dea9af53f\">\n",
              "    <style>\n",
              "      .colab-df-generate {\n",
              "        background-color: #E8F0FE;\n",
              "        border: none;\n",
              "        border-radius: 50%;\n",
              "        cursor: pointer;\n",
              "        display: none;\n",
              "        fill: #1967D2;\n",
              "        height: 32px;\n",
              "        padding: 0 0 0 0;\n",
              "        width: 32px;\n",
              "      }\n",
              "\n",
              "      .colab-df-generate:hover {\n",
              "        background-color: #E2EBFA;\n",
              "        box-shadow: 0px 1px 2px rgba(60, 64, 67, 0.3), 0px 1px 3px 1px rgba(60, 64, 67, 0.15);\n",
              "        fill: #174EA6;\n",
              "      }\n",
              "\n",
              "      [theme=dark] .colab-df-generate {\n",
              "        background-color: #3B4455;\n",
              "        fill: #D2E3FC;\n",
              "      }\n",
              "\n",
              "      [theme=dark] .colab-df-generate:hover {\n",
              "        background-color: #434B5C;\n",
              "        box-shadow: 0px 1px 3px 1px rgba(0, 0, 0, 0.15);\n",
              "        filter: drop-shadow(0px 1px 2px rgba(0, 0, 0, 0.3));\n",
              "        fill: #FFFFFF;\n",
              "      }\n",
              "    </style>\n",
              "    <button class=\"colab-df-generate\" onclick=\"generateWithVariable('data')\"\n",
              "            title=\"Generate code using this dataframe.\"\n",
              "            style=\"display:none;\">\n",
              "\n",
              "  <svg xmlns=\"http://www.w3.org/2000/svg\" height=\"24px\"viewBox=\"0 0 24 24\"\n",
              "       width=\"24px\">\n",
              "    <path d=\"M7,19H8.4L18.45,9,17,7.55,7,17.6ZM5,21V16.75L18.45,3.32a2,2,0,0,1,2.83,0l1.4,1.43a1.91,1.91,0,0,1,.58,1.4,1.91,1.91,0,0,1-.58,1.4L9.25,21ZM18.45,9,17,7.55Zm-12,3A5.31,5.31,0,0,0,4.9,8.1,5.31,5.31,0,0,0,1,6.5,5.31,5.31,0,0,0,4.9,4.9,5.31,5.31,0,0,0,6.5,1,5.31,5.31,0,0,0,8.1,4.9,5.31,5.31,0,0,0,12,6.5,5.46,5.46,0,0,0,6.5,12Z\"/>\n",
              "  </svg>\n",
              "    </button>\n",
              "    <script>\n",
              "      (() => {\n",
              "      const buttonEl =\n",
              "        document.querySelector('#id_1cd64c59-3643-4084-919f-ce1dea9af53f button.colab-df-generate');\n",
              "      buttonEl.style.display =\n",
              "        google.colab.kernel.accessAllowed ? 'block' : 'none';\n",
              "\n",
              "      buttonEl.onclick = () => {\n",
              "        google.colab.notebook.generateWithVariable('data');\n",
              "      }\n",
              "      })();\n",
              "    </script>\n",
              "  </div>\n",
              "\n",
              "    </div>\n",
              "  </div>\n"
            ],
            "application/vnd.google.colaboratory.intrinsic+json": {
              "type": "dataframe",
              "variable_name": "data",
              "summary": "{\n  \"name\": \"data\",\n  \"rows\": 2,\n  \"fields\": [\n    {\n      \"column\": \"A\",\n      \"properties\": {\n        \"dtype\": \"number\",\n        \"std\": 1,\n        \"min\": 2,\n        \"max\": 4,\n        \"num_unique_values\": 2,\n        \"samples\": [\n          4,\n          2\n        ],\n        \"semantic_type\": \"\",\n        \"description\": \"\"\n      }\n    },\n    {\n      \"column\": \"B\",\n      \"properties\": {\n        \"dtype\": \"number\",\n        \"std\": 0,\n        \"min\": 4,\n        \"max\": 4,\n        \"num_unique_values\": 1,\n        \"samples\": [\n          4\n        ],\n        \"semantic_type\": \"\",\n        \"description\": \"\"\n      }\n    },\n    {\n      \"column\": \"C\",\n      \"properties\": {\n        \"dtype\": \"number\",\n        \"std\": 0,\n        \"min\": 4,\n        \"max\": 5,\n        \"num_unique_values\": 2,\n        \"samples\": [\n          4\n        ],\n        \"semantic_type\": \"\",\n        \"description\": \"\"\n      }\n    },\n    {\n      \"column\": \"D\",\n      \"properties\": {\n        \"dtype\": \"number\",\n        \"std\": 1,\n        \"min\": 4,\n        \"max\": 6,\n        \"num_unique_values\": 2,\n        \"samples\": [\n          4\n        ],\n        \"semantic_type\": \"\",\n        \"description\": \"\"\n      }\n    },\n    {\n      \"column\": \"E\",\n      \"properties\": {\n        \"dtype\": \"number\",\n        \"std\": 0,\n        \"min\": 2,\n        \"max\": 3,\n        \"num_unique_values\": 2,\n        \"samples\": [\n          3\n        ],\n        \"semantic_type\": \"\",\n        \"description\": \"\"\n      }\n    },\n    {\n      \"column\": \"F\",\n      \"properties\": {\n        \"dtype\": \"number\",\n        \"std\": 1,\n        \"min\": 3,\n        \"max\": 5,\n        \"num_unique_values\": 2,\n        \"samples\": [\n          3\n        ],\n        \"semantic_type\": \"\",\n        \"description\": \"\"\n      }\n    },\n    {\n      \"column\": \"G\",\n      \"properties\": {\n        \"dtype\": \"number\",\n        \"std\": 0,\n        \"min\": 2,\n        \"max\": 2,\n        \"num_unique_values\": 1,\n        \"samples\": [\n          2\n        ],\n        \"semantic_type\": \"\",\n        \"description\": \"\"\n      }\n    },\n    {\n      \"column\": \"H\",\n      \"properties\": {\n        \"dtype\": \"number\",\n        \"std\": 0,\n        \"min\": 2,\n        \"max\": 3,\n        \"num_unique_values\": 2,\n        \"samples\": [\n          2\n        ],\n        \"semantic_type\": \"\",\n        \"description\": \"\"\n      }\n    }\n  ]\n}"
            }
          },
          "metadata": {},
          "execution_count": 275
        }
      ]
    },
    {
      "cell_type": "code",
      "source": [
        "#Inisialisasi centroid awal\n",
        "C1 = np.array([2,2]) #G(2,2)\n",
        "C2 = np.array([3,2]) #H(3,2)"
      ],
      "metadata": {
        "id": "zx-KFYJzM9Zk"
      },
      "execution_count": null,
      "outputs": []
    },
    {
      "cell_type": "code",
      "source": [
        "#Fungsi untuk menghitung jarak Euclidea\n",
        "def euclidean_distance(point, centroid):\n",
        "  return np.sqrt(np.sum((point - centroid)**2))\n",
        "\n",
        "#List untuk menyimpan hasil\n",
        "results = []"
      ],
      "metadata": {
        "id": "MHO9seDpNLDj"
      },
      "execution_count": null,
      "outputs": []
    },
    {
      "cell_type": "code",
      "source": [
        "#Menghitung jarak dan menentukan klaster untuk setiap titik\n",
        "for point, coordinates in data.items():\n",
        "  coordinates = np.array(coordinates)\n",
        "\n",
        "  #Menghitung jarak ke masing-masing centroid\n",
        "  jarak_ke_c1 = euclidean_distance(coordinates, C1)\n",
        "  jarak_ke_c2 = euclidean_distance(coordinates, C2)\n",
        "\n",
        "  #Menentukan klaster terdekat\n",
        "  if jarak_ke_c1 < jarak_ke_c2:\n",
        "    centroid_terdekat = \"C1\"\n",
        "  else:\n",
        "   centroid_terdekat = \"C2\"\n",
        "\n",
        "  #Menyimpan hasil\n",
        "  results.append([point, coordinates[0], coordinates[1], round(jarak_ke_c1, 2), round(jarak_ke_c2, 2), centroid_terdekat])"
      ],
      "metadata": {
        "id": "gGFXTNeHNOBj"
      },
      "execution_count": null,
      "outputs": []
    },
    {
      "cell_type": "code",
      "source": [
        "#Membuat dataframe untuk menampilkan tabel\n",
        "df = pd.DataFrame(results, columns=['Titik', 'X', 'Y', 'Jarak C1', 'Jarak C2', 'Klaster'])\n",
        "\n",
        "#Menampilan tabel\n",
        "print(df)"
      ],
      "metadata": {
        "colab": {
          "base_uri": "https://localhost:8080/"
        },
        "id": "-C4BNOn7NoHE",
        "outputId": "6041678d-1696-49fa-f34f-11de9532bcf8"
      },
      "execution_count": null,
      "outputs": [
        {
          "output_type": "stream",
          "name": "stdout",
          "text": [
            "  Titik  X  Y  Jarak C1  Jarak C2 Klaster\n",
            "0     A  2  4      2.00      2.24      C1\n",
            "1     B  4  4      2.83      2.24      C2\n",
            "2     C  5  4      3.61      2.83      C2\n",
            "3     D  6  4      4.47      3.61      C2\n",
            "4     E  2  3      1.00      1.41      C1\n",
            "5     F  5  3      3.16      2.24      C2\n",
            "6     G  2  2      0.00      1.00      C1\n",
            "7     H  3  2      1.00      0.00      C2\n"
          ]
        }
      ]
    },
    {
      "cell_type": "code",
      "source": [
        "#Titik titik yang termasuk dalam C1 dan C2\n",
        "C1 = df[df['Klaster'] == 'C1']\n",
        "C2 = df[df['Klaster'] == 'C2']\n",
        "print(\"Titik yang termasuk dalam C1:\")\n",
        "print(C1)\n",
        "print(\"\\nTitik yang termasuk dalam C2:\")\n",
        "print(C2)"
      ],
      "metadata": {
        "colab": {
          "base_uri": "https://localhost:8080/"
        },
        "id": "5hxY7VoBOYPb",
        "outputId": "9f519eb9-9bf1-4ea7-bea5-5d4bf9fe7d6b"
      },
      "execution_count": null,
      "outputs": [
        {
          "output_type": "stream",
          "name": "stdout",
          "text": [
            "Titik yang termasuk dalam C1:\n",
            "  Titik  X  Y  Jarak C1  Jarak C2 Klaster\n",
            "0     A  2  4       2.0      2.24      C1\n",
            "4     E  2  3       1.0      1.41      C1\n",
            "6     G  2  2       0.0      1.00      C1\n",
            "\n",
            "Titik yang termasuk dalam C2:\n",
            "  Titik  X  Y  Jarak C1  Jarak C2 Klaster\n",
            "1     B  4  4      2.83      2.24      C2\n",
            "2     C  5  4      3.61      2.83      C2\n",
            "3     D  6  4      4.47      3.61      C2\n",
            "5     F  5  3      3.16      2.24      C2\n",
            "7     H  3  2      1.00      0.00      C2\n"
          ]
        }
      ]
    },
    {
      "cell_type": "markdown",
      "source": [
        "### Iterasi 2"
      ],
      "metadata": {
        "id": "884uqjD7NuHf"
      }
    },
    {
      "cell_type": "code",
      "source": [
        "# Menghitung centroid baru berdasarkan rata-rata titik di klaster C1 dan C2\n",
        "C1_2 = df[df['Klaster'] == 'C1'][['X', 'Y']].mean().values\n",
        "C2_2 = df[df['Klaster'] == 'C2'][['X', 'Y']].mean().values\n",
        "\n",
        "# Menampilkan centroid baru\n",
        "print(f\"Centroid baru C1: {C1_2}\")\n",
        "print(f\"Centroid baru C2: {C2_2}\")"
      ],
      "metadata": {
        "colab": {
          "base_uri": "https://localhost:8080/"
        },
        "id": "tNIXOgbqN6MM",
        "outputId": "3a032caf-83eb-4502-a58e-c84e2ecfc5ec"
      },
      "execution_count": null,
      "outputs": [
        {
          "output_type": "stream",
          "name": "stdout",
          "text": [
            "Centroid baru C1: [2. 3.]\n",
            "Centroid baru C2: [4.6 3.4]\n"
          ]
        }
      ]
    },
    {
      "cell_type": "code",
      "source": [
        "#Inisialisasi centroid awal\n",
        "C1_2 = np.array([2.0, 3.0]) # Centroid 1 baru (2.0, 3.0)\n",
        "C2_2 = np.array([4.6, 3.4]) # Centroid 2 baru (4.6, 3.4)"
      ],
      "metadata": {
        "id": "vrtOcnD1Orn-"
      },
      "execution_count": null,
      "outputs": []
    },
    {
      "cell_type": "code",
      "source": [
        "#Fungsi untuk menghitung jarak Euclidea\n",
        "def euclidean_distance(point, centroid):\n",
        "  return np.sqrt(np.sum((point - centroid)**2))\n",
        "\n",
        "#List untuk menyimpan hasil\n",
        "results = []"
      ],
      "metadata": {
        "id": "C5dpkFDCPL7o"
      },
      "execution_count": null,
      "outputs": []
    },
    {
      "cell_type": "code",
      "source": [
        "#Menghitung jarak dan menentukan klaster untuk setiap titik\n",
        "for index, row in df.iterrows():\n",
        "  point = row['Titik']\n",
        "  coordinates = np.array([row['X'], row[\"Y\"]])\n",
        "\n",
        "  #Menghitung jarak ke masing-masing centroid\n",
        "  jarak_ke_c1_2 = euclidean_distance(coordinates, C1_2)\n",
        "  jarak_ke_c2_2 = euclidean_distance(coordinates, C2_2)\n",
        "\n",
        "  #Menentukan klaster terdekat\n",
        "  if jarak_ke_c1_2 < jarak_ke_c2_2:\n",
        "    jarak_terdekat = \"C1\"\n",
        "  else:\n",
        "    jarak_terdekat = \"C2\"\n",
        "\n",
        "  #Menyimpan hasil\n",
        "  results.append([point, coordinates[0], coordinates[1], round(jarak_ke_c1_2, 2), round(jarak_ke_c2_2, 2), jarak_terdekat])"
      ],
      "metadata": {
        "id": "JYVzdNrkPOFP"
      },
      "execution_count": null,
      "outputs": []
    },
    {
      "cell_type": "code",
      "source": [
        "#Membuat dataframe untuk menampilkan tabel\n",
        "df_results = pd.DataFrame(results, columns=['Titik', 'X', 'Y', 'Jarak C1', 'Jarak C2', 'Klaster'])\n",
        "\n",
        "#Menampilan tabel\n",
        "print(df_results)"
      ],
      "metadata": {
        "colab": {
          "base_uri": "https://localhost:8080/"
        },
        "id": "nu45Z6XmPvjI",
        "outputId": "da987584-7b03-4c53-d655-7c7fe6c649ad"
      },
      "execution_count": null,
      "outputs": [
        {
          "output_type": "stream",
          "name": "stdout",
          "text": [
            "  Titik  X  Y  Jarak C1  Jarak C2 Klaster\n",
            "0     A  2  4      1.00      2.67      C1\n",
            "1     B  4  4      2.24      0.85      C2\n",
            "2     C  5  4      3.16      0.72      C2\n",
            "3     D  6  4      4.12      1.52      C2\n",
            "4     E  2  3      0.00      2.63      C1\n",
            "5     F  5  3      3.00      0.57      C2\n",
            "6     G  2  2      1.00      2.95      C1\n",
            "7     H  3  2      1.41      2.13      C1\n"
          ]
        }
      ]
    },
    {
      "cell_type": "code",
      "source": [
        "#Titik titik yang termasuk dalam C1 dan C2\n",
        "C1 = df_results[df_results['Klaster'] == 'C1']\n",
        "C2 = df_results[df_results['Klaster'] == 'C2']\n",
        "print(\"Titik yang termasuk dalam C1:\")\n",
        "print(C1)\n",
        "print(\"\\nTitik yang termasuk dalam C2:\")\n",
        "print(C2)"
      ],
      "metadata": {
        "colab": {
          "base_uri": "https://localhost:8080/"
        },
        "id": "lrK8THL8U3YQ",
        "outputId": "258d2ccf-ecc9-4274-d0d6-01a5833c33cf"
      },
      "execution_count": null,
      "outputs": [
        {
          "output_type": "stream",
          "name": "stdout",
          "text": [
            "Titik yang termasuk dalam C1:\n",
            "  Titik  X  Y  Jarak C1  Jarak C2 Klaster\n",
            "0     A  2  4      1.00      2.67      C1\n",
            "4     E  2  3      0.00      2.63      C1\n",
            "6     G  2  2      1.00      2.95      C1\n",
            "7     H  3  2      1.41      2.13      C1\n",
            "\n",
            "Titik yang termasuk dalam C2:\n",
            "  Titik  X  Y  Jarak C1  Jarak C2 Klaster\n",
            "1     B  4  4      2.24      0.85      C2\n",
            "2     C  5  4      3.16      0.72      C2\n",
            "3     D  6  4      4.12      1.52      C2\n",
            "5     F  5  3      3.00      0.57      C2\n"
          ]
        }
      ]
    },
    {
      "cell_type": "markdown",
      "source": [
        "### Iterasi 3"
      ],
      "metadata": {
        "id": "p4uydt3iQrqy"
      }
    },
    {
      "cell_type": "code",
      "source": [
        "#Inisialisasi centroid awal\n",
        "C1_3 = np.array([2.25, 2.75]) # Centroid 1 baru (2.0, 3.0)\n",
        "C2_3 = np.array([5, 3.75]) # Centroid 2 baru (4.6, 3.4)"
      ],
      "metadata": {
        "id": "-EZnSvSoQ304"
      },
      "execution_count": null,
      "outputs": []
    },
    {
      "cell_type": "code",
      "source": [
        "#Fungsi untuk menghitung jarak Euclidea\n",
        "def euclidean_distance(point, centroid):\n",
        "  return np.sqrt(np.sum((point - centroid)**2))\n",
        "\n",
        "#List untuk menyimpan hasil\n",
        "results = []"
      ],
      "metadata": {
        "id": "HZ9ot7wGQ5iR"
      },
      "execution_count": null,
      "outputs": []
    },
    {
      "cell_type": "code",
      "source": [
        "#Menghitung jarak dan menentukan klaster untuk setiap titik\n",
        "for index, row in df.iterrows():\n",
        "  point = row['Titik']\n",
        "  coordinates = np.array([row['X'], row[\"Y\"]])\n",
        "\n",
        "  #Menghitung jarak ke masing-masing centroid\n",
        "  jarak_ke_c1_3 = euclidean_distance(coordinates, C1_3)\n",
        "  jarak_ke_c2_3 = euclidean_distance(coordinates, C2_3)\n",
        "\n",
        "  #Menentukan klaster terdekat\n",
        "  if jarak_ke_c1_3 < jarak_ke_c2_3:\n",
        "    jarak_terdekat = \"C1\"\n",
        "  else:\n",
        "    jarak_terdekat = \"C2\"\n",
        "\n",
        "  #Menyimpan hasil\n",
        "  results.append([point, coordinates[0], coordinates[1], round(jarak_ke_c1_3, 2), round(jarak_ke_c2_3, 2), jarak_terdekat])\n",
        "\n",
        "#Membuat dataframe untuk menampilkan tabel\n",
        "df_results = pd.DataFrame(results, columns=['Titik', 'X', 'Y', 'Jarak C1', 'Jarak C2', 'Klaster'])\n",
        "\n",
        "#Menampilan tabel\n",
        "print(df_results)"
      ],
      "metadata": {
        "colab": {
          "base_uri": "https://localhost:8080/"
        },
        "id": "AS78CieIQ81q",
        "outputId": "910153d0-a4f1-47a8-bf79-d6019496d9a8"
      },
      "execution_count": null,
      "outputs": [
        {
          "output_type": "stream",
          "name": "stdout",
          "text": [
            "  Titik  X  Y  Jarak C1  Jarak C2 Klaster\n",
            "0     A  2  4      1.27      3.01      C1\n",
            "1     B  4  4      2.15      1.03      C2\n",
            "2     C  5  4      3.02      0.25      C2\n",
            "3     D  6  4      3.95      1.03      C2\n",
            "4     E  2  3      0.35      3.09      C1\n",
            "5     F  5  3      2.76      0.75      C2\n",
            "6     G  2  2      0.79      3.47      C1\n",
            "7     H  3  2      1.06      2.66      C1\n"
          ]
        }
      ]
    },
    {
      "cell_type": "code",
      "source": [
        "#Titik titik yang termasuk dalam C1 dan C2\n",
        "C1 = df_results[df_results['Klaster'] == 'C1']\n",
        "C2 = df_results[df_results['Klaster'] == 'C2']\n",
        "print(\"Titik yang termasuk dalam C1:\")\n",
        "print(C1)\n",
        "print(\"\\nTitik yang termasuk dalam C2:\")\n",
        "print(C2)"
      ],
      "metadata": {
        "colab": {
          "base_uri": "https://localhost:8080/"
        },
        "id": "PHK1TozORWOL",
        "outputId": "a6387003-0c23-4992-d478-c9446e0c8548"
      },
      "execution_count": null,
      "outputs": [
        {
          "output_type": "stream",
          "name": "stdout",
          "text": [
            "Titik yang termasuk dalam C1:\n",
            "  Titik  X  Y  Jarak C1  Jarak C2 Klaster\n",
            "0     A  2  4      1.27      3.01      C1\n",
            "4     E  2  3      0.35      3.09      C1\n",
            "6     G  2  2      0.79      3.47      C1\n",
            "7     H  3  2      1.06      2.66      C1\n",
            "\n",
            "Titik yang termasuk dalam C2:\n",
            "  Titik  X  Y  Jarak C1  Jarak C2 Klaster\n",
            "1     B  4  4      2.15      1.03      C2\n",
            "2     C  5  4      3.02      0.25      C2\n",
            "3     D  6  4      3.95      1.03      C2\n",
            "5     F  5  3      2.76      0.75      C2\n"
          ]
        }
      ]
    },
    {
      "cell_type": "markdown",
      "source": [
        "## Soal 2"
      ],
      "metadata": {
        "id": "5zmjgltwRqkd"
      }
    },
    {
      "cell_type": "markdown",
      "source": [
        "## Iterasi 1"
      ],
      "metadata": {
        "id": "k7k0hSwXSlli"
      }
    },
    {
      "cell_type": "code",
      "source": [
        "#Import pustaka atau library yang akan digunakan\n",
        "import numpy as np\n",
        "import pandas as pd"
      ],
      "metadata": {
        "id": "YddFMrfMRr9l"
      },
      "execution_count": null,
      "outputs": []
    },
    {
      "cell_type": "code",
      "source": [
        "#Masukan dataset yang akan digunakan\n",
        "#Dtaa titik (X, Y)\n",
        "dataa = {\n",
        "    'A': [3,5],\n",
        "    'B': [5,5],\n",
        "    'C': [6,5],\n",
        "    'D': [7,5],\n",
        "    'E': [3,4],\n",
        "    'F': [6,4],\n",
        "    'G': [3,3],\n",
        "    'H': [4,3]\n",
        "}\n",
        "\n",
        "dataa = pd.DataFrame(dataa)\n",
        "dataa"
      ],
      "metadata": {
        "colab": {
          "base_uri": "https://localhost:8080/",
          "height": 125
        },
        "id": "lxZNnvvpRxz1",
        "outputId": "01b9382f-a2ed-4f03-f278-24930ba0bd1b"
      },
      "execution_count": null,
      "outputs": [
        {
          "output_type": "execute_result",
          "data": {
            "text/plain": [
              "   A  B  C  D  E  F  G  H\n",
              "0  3  5  6  7  3  6  3  4\n",
              "1  5  5  5  5  4  4  3  3"
            ],
            "text/html": [
              "\n",
              "  <div id=\"df-8f659da0-d6db-4cda-ab4f-5a44789b3058\" class=\"colab-df-container\">\n",
              "    <div>\n",
              "<style scoped>\n",
              "    .dataframe tbody tr th:only-of-type {\n",
              "        vertical-align: middle;\n",
              "    }\n",
              "\n",
              "    .dataframe tbody tr th {\n",
              "        vertical-align: top;\n",
              "    }\n",
              "\n",
              "    .dataframe thead th {\n",
              "        text-align: right;\n",
              "    }\n",
              "</style>\n",
              "<table border=\"1\" class=\"dataframe\">\n",
              "  <thead>\n",
              "    <tr style=\"text-align: right;\">\n",
              "      <th></th>\n",
              "      <th>A</th>\n",
              "      <th>B</th>\n",
              "      <th>C</th>\n",
              "      <th>D</th>\n",
              "      <th>E</th>\n",
              "      <th>F</th>\n",
              "      <th>G</th>\n",
              "      <th>H</th>\n",
              "    </tr>\n",
              "  </thead>\n",
              "  <tbody>\n",
              "    <tr>\n",
              "      <th>0</th>\n",
              "      <td>3</td>\n",
              "      <td>5</td>\n",
              "      <td>6</td>\n",
              "      <td>7</td>\n",
              "      <td>3</td>\n",
              "      <td>6</td>\n",
              "      <td>3</td>\n",
              "      <td>4</td>\n",
              "    </tr>\n",
              "    <tr>\n",
              "      <th>1</th>\n",
              "      <td>5</td>\n",
              "      <td>5</td>\n",
              "      <td>5</td>\n",
              "      <td>5</td>\n",
              "      <td>4</td>\n",
              "      <td>4</td>\n",
              "      <td>3</td>\n",
              "      <td>3</td>\n",
              "    </tr>\n",
              "  </tbody>\n",
              "</table>\n",
              "</div>\n",
              "    <div class=\"colab-df-buttons\">\n",
              "\n",
              "  <div class=\"colab-df-container\">\n",
              "    <button class=\"colab-df-convert\" onclick=\"convertToInteractive('df-8f659da0-d6db-4cda-ab4f-5a44789b3058')\"\n",
              "            title=\"Convert this dataframe to an interactive table.\"\n",
              "            style=\"display:none;\">\n",
              "\n",
              "  <svg xmlns=\"http://www.w3.org/2000/svg\" height=\"24px\" viewBox=\"0 -960 960 960\">\n",
              "    <path d=\"M120-120v-720h720v720H120Zm60-500h600v-160H180v160Zm220 220h160v-160H400v160Zm0 220h160v-160H400v160ZM180-400h160v-160H180v160Zm440 0h160v-160H620v160ZM180-180h160v-160H180v160Zm440 0h160v-160H620v160Z\"/>\n",
              "  </svg>\n",
              "    </button>\n",
              "\n",
              "  <style>\n",
              "    .colab-df-container {\n",
              "      display:flex;\n",
              "      gap: 12px;\n",
              "    }\n",
              "\n",
              "    .colab-df-convert {\n",
              "      background-color: #E8F0FE;\n",
              "      border: none;\n",
              "      border-radius: 50%;\n",
              "      cursor: pointer;\n",
              "      display: none;\n",
              "      fill: #1967D2;\n",
              "      height: 32px;\n",
              "      padding: 0 0 0 0;\n",
              "      width: 32px;\n",
              "    }\n",
              "\n",
              "    .colab-df-convert:hover {\n",
              "      background-color: #E2EBFA;\n",
              "      box-shadow: 0px 1px 2px rgba(60, 64, 67, 0.3), 0px 1px 3px 1px rgba(60, 64, 67, 0.15);\n",
              "      fill: #174EA6;\n",
              "    }\n",
              "\n",
              "    .colab-df-buttons div {\n",
              "      margin-bottom: 4px;\n",
              "    }\n",
              "\n",
              "    [theme=dark] .colab-df-convert {\n",
              "      background-color: #3B4455;\n",
              "      fill: #D2E3FC;\n",
              "    }\n",
              "\n",
              "    [theme=dark] .colab-df-convert:hover {\n",
              "      background-color: #434B5C;\n",
              "      box-shadow: 0px 1px 3px 1px rgba(0, 0, 0, 0.15);\n",
              "      filter: drop-shadow(0px 1px 2px rgba(0, 0, 0, 0.3));\n",
              "      fill: #FFFFFF;\n",
              "    }\n",
              "  </style>\n",
              "\n",
              "    <script>\n",
              "      const buttonEl =\n",
              "        document.querySelector('#df-8f659da0-d6db-4cda-ab4f-5a44789b3058 button.colab-df-convert');\n",
              "      buttonEl.style.display =\n",
              "        google.colab.kernel.accessAllowed ? 'block' : 'none';\n",
              "\n",
              "      async function convertToInteractive(key) {\n",
              "        const element = document.querySelector('#df-8f659da0-d6db-4cda-ab4f-5a44789b3058');\n",
              "        const dataTable =\n",
              "          await google.colab.kernel.invokeFunction('convertToInteractive',\n",
              "                                                    [key], {});\n",
              "        if (!dataTable) return;\n",
              "\n",
              "        const docLinkHtml = 'Like what you see? Visit the ' +\n",
              "          '<a target=\"_blank\" href=https://colab.research.google.com/notebooks/data_table.ipynb>data table notebook</a>'\n",
              "          + ' to learn more about interactive tables.';\n",
              "        element.innerHTML = '';\n",
              "        dataTable['output_type'] = 'display_data';\n",
              "        await google.colab.output.renderOutput(dataTable, element);\n",
              "        const docLink = document.createElement('div');\n",
              "        docLink.innerHTML = docLinkHtml;\n",
              "        element.appendChild(docLink);\n",
              "      }\n",
              "    </script>\n",
              "  </div>\n",
              "\n",
              "\n",
              "<div id=\"df-258f22d7-8d23-48ed-b470-2310d1d9f00f\">\n",
              "  <button class=\"colab-df-quickchart\" onclick=\"quickchart('df-258f22d7-8d23-48ed-b470-2310d1d9f00f')\"\n",
              "            title=\"Suggest charts\"\n",
              "            style=\"display:none;\">\n",
              "\n",
              "<svg xmlns=\"http://www.w3.org/2000/svg\" height=\"24px\"viewBox=\"0 0 24 24\"\n",
              "     width=\"24px\">\n",
              "    <g>\n",
              "        <path d=\"M19 3H5c-1.1 0-2 .9-2 2v14c0 1.1.9 2 2 2h14c1.1 0 2-.9 2-2V5c0-1.1-.9-2-2-2zM9 17H7v-7h2v7zm4 0h-2V7h2v10zm4 0h-2v-4h2v4z\"/>\n",
              "    </g>\n",
              "</svg>\n",
              "  </button>\n",
              "\n",
              "<style>\n",
              "  .colab-df-quickchart {\n",
              "      --bg-color: #E8F0FE;\n",
              "      --fill-color: #1967D2;\n",
              "      --hover-bg-color: #E2EBFA;\n",
              "      --hover-fill-color: #174EA6;\n",
              "      --disabled-fill-color: #AAA;\n",
              "      --disabled-bg-color: #DDD;\n",
              "  }\n",
              "\n",
              "  [theme=dark] .colab-df-quickchart {\n",
              "      --bg-color: #3B4455;\n",
              "      --fill-color: #D2E3FC;\n",
              "      --hover-bg-color: #434B5C;\n",
              "      --hover-fill-color: #FFFFFF;\n",
              "      --disabled-bg-color: #3B4455;\n",
              "      --disabled-fill-color: #666;\n",
              "  }\n",
              "\n",
              "  .colab-df-quickchart {\n",
              "    background-color: var(--bg-color);\n",
              "    border: none;\n",
              "    border-radius: 50%;\n",
              "    cursor: pointer;\n",
              "    display: none;\n",
              "    fill: var(--fill-color);\n",
              "    height: 32px;\n",
              "    padding: 0;\n",
              "    width: 32px;\n",
              "  }\n",
              "\n",
              "  .colab-df-quickchart:hover {\n",
              "    background-color: var(--hover-bg-color);\n",
              "    box-shadow: 0 1px 2px rgba(60, 64, 67, 0.3), 0 1px 3px 1px rgba(60, 64, 67, 0.15);\n",
              "    fill: var(--button-hover-fill-color);\n",
              "  }\n",
              "\n",
              "  .colab-df-quickchart-complete:disabled,\n",
              "  .colab-df-quickchart-complete:disabled:hover {\n",
              "    background-color: var(--disabled-bg-color);\n",
              "    fill: var(--disabled-fill-color);\n",
              "    box-shadow: none;\n",
              "  }\n",
              "\n",
              "  .colab-df-spinner {\n",
              "    border: 2px solid var(--fill-color);\n",
              "    border-color: transparent;\n",
              "    border-bottom-color: var(--fill-color);\n",
              "    animation:\n",
              "      spin 1s steps(1) infinite;\n",
              "  }\n",
              "\n",
              "  @keyframes spin {\n",
              "    0% {\n",
              "      border-color: transparent;\n",
              "      border-bottom-color: var(--fill-color);\n",
              "      border-left-color: var(--fill-color);\n",
              "    }\n",
              "    20% {\n",
              "      border-color: transparent;\n",
              "      border-left-color: var(--fill-color);\n",
              "      border-top-color: var(--fill-color);\n",
              "    }\n",
              "    30% {\n",
              "      border-color: transparent;\n",
              "      border-left-color: var(--fill-color);\n",
              "      border-top-color: var(--fill-color);\n",
              "      border-right-color: var(--fill-color);\n",
              "    }\n",
              "    40% {\n",
              "      border-color: transparent;\n",
              "      border-right-color: var(--fill-color);\n",
              "      border-top-color: var(--fill-color);\n",
              "    }\n",
              "    60% {\n",
              "      border-color: transparent;\n",
              "      border-right-color: var(--fill-color);\n",
              "    }\n",
              "    80% {\n",
              "      border-color: transparent;\n",
              "      border-right-color: var(--fill-color);\n",
              "      border-bottom-color: var(--fill-color);\n",
              "    }\n",
              "    90% {\n",
              "      border-color: transparent;\n",
              "      border-bottom-color: var(--fill-color);\n",
              "    }\n",
              "  }\n",
              "</style>\n",
              "\n",
              "  <script>\n",
              "    async function quickchart(key) {\n",
              "      const quickchartButtonEl =\n",
              "        document.querySelector('#' + key + ' button');\n",
              "      quickchartButtonEl.disabled = true;  // To prevent multiple clicks.\n",
              "      quickchartButtonEl.classList.add('colab-df-spinner');\n",
              "      try {\n",
              "        const charts = await google.colab.kernel.invokeFunction(\n",
              "            'suggestCharts', [key], {});\n",
              "      } catch (error) {\n",
              "        console.error('Error during call to suggestCharts:', error);\n",
              "      }\n",
              "      quickchartButtonEl.classList.remove('colab-df-spinner');\n",
              "      quickchartButtonEl.classList.add('colab-df-quickchart-complete');\n",
              "    }\n",
              "    (() => {\n",
              "      let quickchartButtonEl =\n",
              "        document.querySelector('#df-258f22d7-8d23-48ed-b470-2310d1d9f00f button');\n",
              "      quickchartButtonEl.style.display =\n",
              "        google.colab.kernel.accessAllowed ? 'block' : 'none';\n",
              "    })();\n",
              "  </script>\n",
              "</div>\n",
              "\n",
              "  <div id=\"id_3faa6271-dc3d-4045-9ab1-9e36ac58bab2\">\n",
              "    <style>\n",
              "      .colab-df-generate {\n",
              "        background-color: #E8F0FE;\n",
              "        border: none;\n",
              "        border-radius: 50%;\n",
              "        cursor: pointer;\n",
              "        display: none;\n",
              "        fill: #1967D2;\n",
              "        height: 32px;\n",
              "        padding: 0 0 0 0;\n",
              "        width: 32px;\n",
              "      }\n",
              "\n",
              "      .colab-df-generate:hover {\n",
              "        background-color: #E2EBFA;\n",
              "        box-shadow: 0px 1px 2px rgba(60, 64, 67, 0.3), 0px 1px 3px 1px rgba(60, 64, 67, 0.15);\n",
              "        fill: #174EA6;\n",
              "      }\n",
              "\n",
              "      [theme=dark] .colab-df-generate {\n",
              "        background-color: #3B4455;\n",
              "        fill: #D2E3FC;\n",
              "      }\n",
              "\n",
              "      [theme=dark] .colab-df-generate:hover {\n",
              "        background-color: #434B5C;\n",
              "        box-shadow: 0px 1px 3px 1px rgba(0, 0, 0, 0.15);\n",
              "        filter: drop-shadow(0px 1px 2px rgba(0, 0, 0, 0.3));\n",
              "        fill: #FFFFFF;\n",
              "      }\n",
              "    </style>\n",
              "    <button class=\"colab-df-generate\" onclick=\"generateWithVariable('dataa')\"\n",
              "            title=\"Generate code using this dataframe.\"\n",
              "            style=\"display:none;\">\n",
              "\n",
              "  <svg xmlns=\"http://www.w3.org/2000/svg\" height=\"24px\"viewBox=\"0 0 24 24\"\n",
              "       width=\"24px\">\n",
              "    <path d=\"M7,19H8.4L18.45,9,17,7.55,7,17.6ZM5,21V16.75L18.45,3.32a2,2,0,0,1,2.83,0l1.4,1.43a1.91,1.91,0,0,1,.58,1.4,1.91,1.91,0,0,1-.58,1.4L9.25,21ZM18.45,9,17,7.55Zm-12,3A5.31,5.31,0,0,0,4.9,8.1,5.31,5.31,0,0,0,1,6.5,5.31,5.31,0,0,0,4.9,4.9,5.31,5.31,0,0,0,6.5,1,5.31,5.31,0,0,0,8.1,4.9,5.31,5.31,0,0,0,12,6.5,5.46,5.46,0,0,0,6.5,12Z\"/>\n",
              "  </svg>\n",
              "    </button>\n",
              "    <script>\n",
              "      (() => {\n",
              "      const buttonEl =\n",
              "        document.querySelector('#id_3faa6271-dc3d-4045-9ab1-9e36ac58bab2 button.colab-df-generate');\n",
              "      buttonEl.style.display =\n",
              "        google.colab.kernel.accessAllowed ? 'block' : 'none';\n",
              "\n",
              "      buttonEl.onclick = () => {\n",
              "        google.colab.notebook.generateWithVariable('dataa');\n",
              "      }\n",
              "      })();\n",
              "    </script>\n",
              "  </div>\n",
              "\n",
              "    </div>\n",
              "  </div>\n"
            ],
            "application/vnd.google.colaboratory.intrinsic+json": {
              "type": "dataframe",
              "variable_name": "dataa",
              "summary": "{\n  \"name\": \"dataa\",\n  \"rows\": 2,\n  \"fields\": [\n    {\n      \"column\": \"A\",\n      \"properties\": {\n        \"dtype\": \"number\",\n        \"std\": 1,\n        \"min\": 3,\n        \"max\": 5,\n        \"num_unique_values\": 2,\n        \"samples\": [\n          5,\n          3\n        ],\n        \"semantic_type\": \"\",\n        \"description\": \"\"\n      }\n    },\n    {\n      \"column\": \"B\",\n      \"properties\": {\n        \"dtype\": \"number\",\n        \"std\": 0,\n        \"min\": 5,\n        \"max\": 5,\n        \"num_unique_values\": 1,\n        \"samples\": [\n          5\n        ],\n        \"semantic_type\": \"\",\n        \"description\": \"\"\n      }\n    },\n    {\n      \"column\": \"C\",\n      \"properties\": {\n        \"dtype\": \"number\",\n        \"std\": 0,\n        \"min\": 5,\n        \"max\": 6,\n        \"num_unique_values\": 2,\n        \"samples\": [\n          5\n        ],\n        \"semantic_type\": \"\",\n        \"description\": \"\"\n      }\n    },\n    {\n      \"column\": \"D\",\n      \"properties\": {\n        \"dtype\": \"number\",\n        \"std\": 1,\n        \"min\": 5,\n        \"max\": 7,\n        \"num_unique_values\": 2,\n        \"samples\": [\n          5\n        ],\n        \"semantic_type\": \"\",\n        \"description\": \"\"\n      }\n    },\n    {\n      \"column\": \"E\",\n      \"properties\": {\n        \"dtype\": \"number\",\n        \"std\": 0,\n        \"min\": 3,\n        \"max\": 4,\n        \"num_unique_values\": 2,\n        \"samples\": [\n          4\n        ],\n        \"semantic_type\": \"\",\n        \"description\": \"\"\n      }\n    },\n    {\n      \"column\": \"F\",\n      \"properties\": {\n        \"dtype\": \"number\",\n        \"std\": 1,\n        \"min\": 4,\n        \"max\": 6,\n        \"num_unique_values\": 2,\n        \"samples\": [\n          4\n        ],\n        \"semantic_type\": \"\",\n        \"description\": \"\"\n      }\n    },\n    {\n      \"column\": \"G\",\n      \"properties\": {\n        \"dtype\": \"number\",\n        \"std\": 0,\n        \"min\": 3,\n        \"max\": 3,\n        \"num_unique_values\": 1,\n        \"samples\": [\n          3\n        ],\n        \"semantic_type\": \"\",\n        \"description\": \"\"\n      }\n    },\n    {\n      \"column\": \"H\",\n      \"properties\": {\n        \"dtype\": \"number\",\n        \"std\": 0,\n        \"min\": 3,\n        \"max\": 4,\n        \"num_unique_values\": 2,\n        \"samples\": [\n          3\n        ],\n        \"semantic_type\": \"\",\n        \"description\": \"\"\n      }\n    }\n  ]\n}"
            }
          },
          "metadata": {},
          "execution_count": 292
        }
      ]
    },
    {
      "cell_type": "code",
      "source": [
        "#Inisialisasi centroid awal\n",
        "C1 = np.array([3,3]) #G(3,3)\n",
        "C2 = np.array([4,3]) #H(4,3)"
      ],
      "metadata": {
        "id": "XOZ65Q4USA3I"
      },
      "execution_count": null,
      "outputs": []
    },
    {
      "cell_type": "code",
      "source": [
        "#Fungsi untuk menghitung jarak Euclidea\n",
        "def euclidean_distance(point, centroid):\n",
        "  return np.sqrt(np.sum((point - centroid)**2))\n",
        "\n",
        "#List untuk menyimpan hasil\n",
        "results = []\n",
        "\n",
        "#Menghitung jarak dan menentukan klaster untuk setiap titik\n",
        "for point, coordinates in dataa.items():\n",
        "  coordinates = np.array(coordinates)\n",
        "\n",
        "  #Menghitung jarak ke masing-masing centroid\n",
        "  jarak_ke_c1 = euclidean_distance(coordinates, C1)\n",
        "  jarak_ke_c2 = euclidean_distance(coordinates, C2)\n",
        "\n",
        "  #Menentukan klaster terdekat\n",
        "  if jarak_ke_c1 < jarak_ke_c2:\n",
        "    centroid_terdekat = \"C1\"\n",
        "  else:\n",
        "   centroid_terdekat = \"C2\"\n",
        "\n",
        "  #Menyimpan hasil\n",
        "  results.append([point, coordinates[0], coordinates[1], round(jarak_ke_c1, 2), round(jarak_ke_c2, 2), centroid_terdekat])\n",
        "\n",
        "#Membuat dataframe untuk menampilkan tabel\n",
        "df_results = pd.DataFrame(results, columns=['Titik', 'X', 'Y', 'Jarak C1', 'Jarak C2', 'Klaster'])\n",
        "\n",
        "#Menampilan tabel\n",
        "print(df_results)"
      ],
      "metadata": {
        "colab": {
          "base_uri": "https://localhost:8080/"
        },
        "id": "Su5fGl3PSKOP",
        "outputId": "9ce26923-056e-4bbc-88bc-4aa890b9bb82"
      },
      "execution_count": null,
      "outputs": [
        {
          "output_type": "stream",
          "name": "stdout",
          "text": [
            "  Titik  X  Y  Jarak C1  Jarak C2 Klaster\n",
            "0     A  3  5      2.00      2.24      C1\n",
            "1     B  5  5      2.83      2.24      C2\n",
            "2     C  6  5      3.61      2.83      C2\n",
            "3     D  7  5      4.47      3.61      C2\n",
            "4     E  3  4      1.00      1.41      C1\n",
            "5     F  6  4      3.16      2.24      C2\n",
            "6     G  3  3      0.00      1.00      C1\n",
            "7     H  4  3      1.00      0.00      C2\n"
          ]
        }
      ]
    },
    {
      "cell_type": "code",
      "source": [
        "#Titik titik yang termasuk dalam C1 dan C2\n",
        "C1 = df_results[df_results['Klaster'] == 'C1']\n",
        "C2 = df_results[df_results['Klaster'] == 'C2']\n",
        "print(\"Titik yang termasuk dalam C1:\")\n",
        "print(C1)\n",
        "print(C2)"
      ],
      "metadata": {
        "colab": {
          "base_uri": "https://localhost:8080/"
        },
        "id": "snPne5hPSevU",
        "outputId": "717f37e8-e893-4a66-b738-afc9c7ed1a31"
      },
      "execution_count": null,
      "outputs": [
        {
          "output_type": "stream",
          "name": "stdout",
          "text": [
            "Titik yang termasuk dalam C1:\n",
            "  Titik  X  Y  Jarak C1  Jarak C2 Klaster\n",
            "0     A  3  5       2.0      2.24      C1\n",
            "4     E  3  4       1.0      1.41      C1\n",
            "6     G  3  3       0.0      1.00      C1\n",
            "  Titik  X  Y  Jarak C1  Jarak C2 Klaster\n",
            "1     B  5  5      2.83      2.24      C2\n",
            "2     C  6  5      3.61      2.83      C2\n",
            "3     D  7  5      4.47      3.61      C2\n",
            "5     F  6  4      3.16      2.24      C2\n",
            "7     H  4  3      1.00      0.00      C2\n"
          ]
        }
      ]
    },
    {
      "cell_type": "markdown",
      "source": [
        "### Iterasi 2"
      ],
      "metadata": {
        "id": "TLGfbCLJSieL"
      }
    },
    {
      "cell_type": "code",
      "source": [
        "klaster_1 = df_results[df_results['Klaster'] == 'C1']\n",
        "klaster_2 = df_results[df_results['Klaster'] == 'C2']\n",
        "\n",
        "C1_2 = np.array([klaster_1['X'].mean(), klaster_1['Y'].mean()])\n",
        "C2_2 = np.array([klaster_2['X'].mean(), klaster_2['Y'].mean()])\n",
        "\n",
        "print(f\"Cetroid baru klaster 1: {C1_2}\")\n",
        "print(f\"Cetroid baru klaster 2: {C2_2}\")"
      ],
      "metadata": {
        "colab": {
          "base_uri": "https://localhost:8080/"
        },
        "id": "tpcyoETuVBFx",
        "outputId": "7850450a-2636-4899-cbc5-83f674a420e6"
      },
      "execution_count": null,
      "outputs": [
        {
          "output_type": "stream",
          "name": "stdout",
          "text": [
            "Cetroid baru klaster 1: [3. 4.]\n",
            "Cetroid baru klaster 2: [5.6 4.4]\n"
          ]
        }
      ]
    },
    {
      "cell_type": "code",
      "source": [
        "#Inisialisasi centroid awal\n",
        "C1_2 = np.array([3., 4.])\n",
        "C2_2 = np.array([5.6, 4.4])"
      ],
      "metadata": {
        "id": "vbBSW4mSWP56"
      },
      "execution_count": null,
      "outputs": []
    },
    {
      "cell_type": "code",
      "source": [
        "#Fungsi untuk menghitung jarak Euclidea\n",
        "def euclidean_distance(point, centroid):\n",
        "  return np.sqrt(np.sum((point - centroid)**2))\n",
        "\n",
        "#List untuk menyimpan hasil\n",
        "results = []\n",
        "\n",
        "#Menghitung jarak dan menentukan klaster untuk setiap titik\n",
        "for point, coordinates in dataa.items():\n",
        "  coordinates = np.array(coordinates)\n",
        "\n",
        "  #Menghitung jarak ke masing-masing centroid\n",
        "  jarak_ke_c1_2 = euclidean_distance(coordinates, C1_2)\n",
        "  jarak_ke_c2_2 = euclidean_distance(coordinates, C2_2)\n",
        "\n",
        "  #Menentukan klaster terdekat\n",
        "  if jarak_ke_c1_2 < jarak_ke_c2_2:\n",
        "    centroid_terdekat = \"C1\"\n",
        "  else:\n",
        "   centroid_terdekat = \"C2\"\n",
        "\n",
        "  #Menyimpan hasil\n",
        "  results.append([point, coordinates[0], coordinates[1], round(jarak_ke_c1_2, 2), round(jarak_ke_c2_2, 2), centroid_terdekat])\n",
        "\n",
        "#Membuat dataframe untuk menampilkan tabel\n",
        "df_results = pd.DataFrame(results, columns=['Titik', 'X', 'Y', 'Jarak C1', 'Jarak C2', 'Klaster'])\n",
        "\n",
        "#Menampilan tabel\n",
        "print(df_results)"
      ],
      "metadata": {
        "colab": {
          "base_uri": "https://localhost:8080/"
        },
        "id": "Oytor4tYVRNC",
        "outputId": "ea27658c-890d-4788-907e-6c576fe79fd6"
      },
      "execution_count": null,
      "outputs": [
        {
          "output_type": "stream",
          "name": "stdout",
          "text": [
            "  Titik  X  Y  Jarak C1  Jarak C2 Klaster\n",
            "0     A  3  5      1.00      2.67      C1\n",
            "1     B  5  5      2.24      0.85      C2\n",
            "2     C  6  5      3.16      0.72      C2\n",
            "3     D  7  5      4.12      1.52      C2\n",
            "4     E  3  4      0.00      2.63      C1\n",
            "5     F  6  4      3.00      0.57      C2\n",
            "6     G  3  3      1.00      2.95      C1\n",
            "7     H  4  3      1.41      2.13      C1\n"
          ]
        }
      ]
    },
    {
      "cell_type": "code",
      "source": [
        "#Iterasi 3\n",
        "klaster_1 = df_results[df_results['Klaster'] == 'C1']\n",
        "klaster_2 = df_results[df_results['Klaster'] == 'C2']\n",
        "\n",
        "C1_3 = np.array([klaster_1['X'].mean(), klaster_1['Y'].mean()])\n",
        "C2_3 = np.array([klaster_2['X'].mean(), klaster_2['Y'].mean()])\n",
        "\n",
        "print(f\"Cetroid baru klaster 1: {C1_3}\")\n",
        "print(f\"Cetroid baru klaster 2: {C2_3}\")"
      ],
      "metadata": {
        "colab": {
          "base_uri": "https://localhost:8080/"
        },
        "id": "5CSWsBDtVj5i",
        "outputId": "16e1e8cb-a969-46a4-a9b8-62c6f63025dc"
      },
      "execution_count": null,
      "outputs": [
        {
          "output_type": "stream",
          "name": "stdout",
          "text": [
            "Cetroid baru klaster 1: [3.25 3.75]\n",
            "Cetroid baru klaster 2: [6.   4.75]\n"
          ]
        }
      ]
    },
    {
      "cell_type": "code",
      "source": [
        "#Inisialisasi centroid awal\n",
        "C1_3 = np.array([3.25, 3.75])\n",
        "C2_3 = np.array([6.0,   4.75])"
      ],
      "metadata": {
        "id": "V4H95oA2Wt4b"
      },
      "execution_count": null,
      "outputs": []
    },
    {
      "cell_type": "code",
      "source": [
        "#Fungsi untuk menghitung jarak Euclidea\n",
        "def euclidean_distance(point, centroid):\n",
        "  return np.sqrt(np.sum((point - centroid)**2))\n",
        "\n",
        "#List untuk menyimpan hasil\n",
        "results = []\n",
        "\n",
        "#Menghitung jarak dan menentukan klaster untuk setiap titik\n",
        "for point, coordinates in dataa.items():\n",
        "  coordinates = np.array(coordinates)\n",
        "\n",
        "  #Menghitung jarak ke masing-masing centroid\n",
        "  jarak_ke_c1_3 = euclidean_distance(coordinates, C1_3)\n",
        "  jarak_ke_c2_3 = euclidean_distance(coordinates, C2_3)\n",
        "\n",
        "  #Menentukan klaster terdekat\n",
        "  if jarak_ke_c1_3 < jarak_ke_c2_3:\n",
        "    centroid_terdekat = \"C1\"\n",
        "  else:\n",
        "   centroid_terdekat = \"C2\"\n",
        "\n",
        "  #Menyimpan hasil\n",
        "  results.append([point, coordinates[0], coordinates[1], round(jarak_ke_c1_3, 2), round(jarak_ke_c2_3, 2), centroid_terdekat])\n",
        "\n",
        "#Membuat dataframe untuk menampilkan tabel\n",
        "df_results = pd.DataFrame(results, columns=['Titik', 'X', 'Y', 'Jarak C1', 'Jarak C2', 'Klaster'])\n",
        "\n",
        "#Menampilan tabel\n",
        "print(df_results)"
      ],
      "metadata": {
        "colab": {
          "base_uri": "https://localhost:8080/"
        },
        "id": "Ac3Rw_E2VrUR",
        "outputId": "b8851088-177c-44b4-81e6-1a09fdb265c6"
      },
      "execution_count": null,
      "outputs": [
        {
          "output_type": "stream",
          "name": "stdout",
          "text": [
            "  Titik  X  Y  Jarak C1  Jarak C2 Klaster\n",
            "0     A  3  5      1.27      3.01      C1\n",
            "1     B  5  5      2.15      1.03      C2\n",
            "2     C  6  5      3.02      0.25      C2\n",
            "3     D  7  5      3.95      1.03      C2\n",
            "4     E  3  4      0.35      3.09      C1\n",
            "5     F  6  4      2.76      0.75      C2\n",
            "6     G  3  3      0.79      3.47      C1\n",
            "7     H  4  3      1.06      2.66      C1\n"
          ]
        }
      ]
    }
  ]
}
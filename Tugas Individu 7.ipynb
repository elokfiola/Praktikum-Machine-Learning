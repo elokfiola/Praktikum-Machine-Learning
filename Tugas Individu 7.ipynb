{
  "nbformat": 4,
  "nbformat_minor": 0,
  "metadata": {
    "colab": {
      "provenance": []
    },
    "kernelspec": {
      "name": "python3",
      "display_name": "Python 3"
    },
    "language_info": {
      "name": "python"
    }
  },
  "cells": [
    {
      "cell_type": "code",
      "execution_count": 580,
      "metadata": {
        "id": "J7MFN8x6TQld"
      },
      "outputs": [],
      "source": [
        "#Import pustaka yang diperlukan\n",
        "import numpy as np\n",
        "import pandas as pd\n",
        "from sklearn.discriminant_analysis import LinearDiscriminantAnalysis"
      ]
    },
    {
      "cell_type": "code",
      "source": [
        "import pandas as pd\n",
        "\n",
        "# Mendefinisikan data\n",
        "data = {\n",
        "    'x1': [3, -1, 2, -2, 1, 5, 6, -3, 0, 4, -4, 2],\n",
        "    'x2': [1, -2, 3, -1, 0, 2, -3, 3, -2, 1, 4, -1],\n",
        "    'kelas': ['A', 'A', 'A', 'A', 'B', 'B', 'B', 'B', 'A', 'A', 'B', 'B']\n",
        "}\n",
        "\n",
        "# Membuat DataFrame\n",
        "df = pd.DataFrame(data)\n",
        "\n",
        "# Mendefinisikan fitur (X) dan label kelas (y)\n",
        "X = df[['x1', 'x2']].values\n",
        "y = df['kelas'].values\n",
        "df"
      ],
      "metadata": {
        "colab": {
          "base_uri": "https://localhost:8080/",
          "height": 426
        },
        "id": "lPmRo8uBTavP",
        "outputId": "0dfc6be6-98be-4163-f6e0-3cbc10769bbc"
      },
      "execution_count": 581,
      "outputs": [
        {
          "output_type": "execute_result",
          "data": {
            "text/plain": [
              "    x1  x2 kelas\n",
              "0    3   1     A\n",
              "1   -1  -2     A\n",
              "2    2   3     A\n",
              "3   -2  -1     A\n",
              "4    1   0     B\n",
              "5    5   2     B\n",
              "6    6  -3     B\n",
              "7   -3   3     B\n",
              "8    0  -2     A\n",
              "9    4   1     A\n",
              "10  -4   4     B\n",
              "11   2  -1     B"
            ],
            "text/html": [
              "\n",
              "  <div id=\"df-1324014e-2e7e-4c8f-948e-96fa9563a30f\" class=\"colab-df-container\">\n",
              "    <div>\n",
              "<style scoped>\n",
              "    .dataframe tbody tr th:only-of-type {\n",
              "        vertical-align: middle;\n",
              "    }\n",
              "\n",
              "    .dataframe tbody tr th {\n",
              "        vertical-align: top;\n",
              "    }\n",
              "\n",
              "    .dataframe thead th {\n",
              "        text-align: right;\n",
              "    }\n",
              "</style>\n",
              "<table border=\"1\" class=\"dataframe\">\n",
              "  <thead>\n",
              "    <tr style=\"text-align: right;\">\n",
              "      <th></th>\n",
              "      <th>x1</th>\n",
              "      <th>x2</th>\n",
              "      <th>kelas</th>\n",
              "    </tr>\n",
              "  </thead>\n",
              "  <tbody>\n",
              "    <tr>\n",
              "      <th>0</th>\n",
              "      <td>3</td>\n",
              "      <td>1</td>\n",
              "      <td>A</td>\n",
              "    </tr>\n",
              "    <tr>\n",
              "      <th>1</th>\n",
              "      <td>-1</td>\n",
              "      <td>-2</td>\n",
              "      <td>A</td>\n",
              "    </tr>\n",
              "    <tr>\n",
              "      <th>2</th>\n",
              "      <td>2</td>\n",
              "      <td>3</td>\n",
              "      <td>A</td>\n",
              "    </tr>\n",
              "    <tr>\n",
              "      <th>3</th>\n",
              "      <td>-2</td>\n",
              "      <td>-1</td>\n",
              "      <td>A</td>\n",
              "    </tr>\n",
              "    <tr>\n",
              "      <th>4</th>\n",
              "      <td>1</td>\n",
              "      <td>0</td>\n",
              "      <td>B</td>\n",
              "    </tr>\n",
              "    <tr>\n",
              "      <th>5</th>\n",
              "      <td>5</td>\n",
              "      <td>2</td>\n",
              "      <td>B</td>\n",
              "    </tr>\n",
              "    <tr>\n",
              "      <th>6</th>\n",
              "      <td>6</td>\n",
              "      <td>-3</td>\n",
              "      <td>B</td>\n",
              "    </tr>\n",
              "    <tr>\n",
              "      <th>7</th>\n",
              "      <td>-3</td>\n",
              "      <td>3</td>\n",
              "      <td>B</td>\n",
              "    </tr>\n",
              "    <tr>\n",
              "      <th>8</th>\n",
              "      <td>0</td>\n",
              "      <td>-2</td>\n",
              "      <td>A</td>\n",
              "    </tr>\n",
              "    <tr>\n",
              "      <th>9</th>\n",
              "      <td>4</td>\n",
              "      <td>1</td>\n",
              "      <td>A</td>\n",
              "    </tr>\n",
              "    <tr>\n",
              "      <th>10</th>\n",
              "      <td>-4</td>\n",
              "      <td>4</td>\n",
              "      <td>B</td>\n",
              "    </tr>\n",
              "    <tr>\n",
              "      <th>11</th>\n",
              "      <td>2</td>\n",
              "      <td>-1</td>\n",
              "      <td>B</td>\n",
              "    </tr>\n",
              "  </tbody>\n",
              "</table>\n",
              "</div>\n",
              "    <div class=\"colab-df-buttons\">\n",
              "\n",
              "  <div class=\"colab-df-container\">\n",
              "    <button class=\"colab-df-convert\" onclick=\"convertToInteractive('df-1324014e-2e7e-4c8f-948e-96fa9563a30f')\"\n",
              "            title=\"Convert this dataframe to an interactive table.\"\n",
              "            style=\"display:none;\">\n",
              "\n",
              "  <svg xmlns=\"http://www.w3.org/2000/svg\" height=\"24px\" viewBox=\"0 -960 960 960\">\n",
              "    <path d=\"M120-120v-720h720v720H120Zm60-500h600v-160H180v160Zm220 220h160v-160H400v160Zm0 220h160v-160H400v160ZM180-400h160v-160H180v160Zm440 0h160v-160H620v160ZM180-180h160v-160H180v160Zm440 0h160v-160H620v160Z\"/>\n",
              "  </svg>\n",
              "    </button>\n",
              "\n",
              "  <style>\n",
              "    .colab-df-container {\n",
              "      display:flex;\n",
              "      gap: 12px;\n",
              "    }\n",
              "\n",
              "    .colab-df-convert {\n",
              "      background-color: #E8F0FE;\n",
              "      border: none;\n",
              "      border-radius: 50%;\n",
              "      cursor: pointer;\n",
              "      display: none;\n",
              "      fill: #1967D2;\n",
              "      height: 32px;\n",
              "      padding: 0 0 0 0;\n",
              "      width: 32px;\n",
              "    }\n",
              "\n",
              "    .colab-df-convert:hover {\n",
              "      background-color: #E2EBFA;\n",
              "      box-shadow: 0px 1px 2px rgba(60, 64, 67, 0.3), 0px 1px 3px 1px rgba(60, 64, 67, 0.15);\n",
              "      fill: #174EA6;\n",
              "    }\n",
              "\n",
              "    .colab-df-buttons div {\n",
              "      margin-bottom: 4px;\n",
              "    }\n",
              "\n",
              "    [theme=dark] .colab-df-convert {\n",
              "      background-color: #3B4455;\n",
              "      fill: #D2E3FC;\n",
              "    }\n",
              "\n",
              "    [theme=dark] .colab-df-convert:hover {\n",
              "      background-color: #434B5C;\n",
              "      box-shadow: 0px 1px 3px 1px rgba(0, 0, 0, 0.15);\n",
              "      filter: drop-shadow(0px 1px 2px rgba(0, 0, 0, 0.3));\n",
              "      fill: #FFFFFF;\n",
              "    }\n",
              "  </style>\n",
              "\n",
              "    <script>\n",
              "      const buttonEl =\n",
              "        document.querySelector('#df-1324014e-2e7e-4c8f-948e-96fa9563a30f button.colab-df-convert');\n",
              "      buttonEl.style.display =\n",
              "        google.colab.kernel.accessAllowed ? 'block' : 'none';\n",
              "\n",
              "      async function convertToInteractive(key) {\n",
              "        const element = document.querySelector('#df-1324014e-2e7e-4c8f-948e-96fa9563a30f');\n",
              "        const dataTable =\n",
              "          await google.colab.kernel.invokeFunction('convertToInteractive',\n",
              "                                                    [key], {});\n",
              "        if (!dataTable) return;\n",
              "\n",
              "        const docLinkHtml = 'Like what you see? Visit the ' +\n",
              "          '<a target=\"_blank\" href=https://colab.research.google.com/notebooks/data_table.ipynb>data table notebook</a>'\n",
              "          + ' to learn more about interactive tables.';\n",
              "        element.innerHTML = '';\n",
              "        dataTable['output_type'] = 'display_data';\n",
              "        await google.colab.output.renderOutput(dataTable, element);\n",
              "        const docLink = document.createElement('div');\n",
              "        docLink.innerHTML = docLinkHtml;\n",
              "        element.appendChild(docLink);\n",
              "      }\n",
              "    </script>\n",
              "  </div>\n",
              "\n",
              "\n",
              "<div id=\"df-f8ce2971-a314-4a77-bebf-8f3292135a62\">\n",
              "  <button class=\"colab-df-quickchart\" onclick=\"quickchart('df-f8ce2971-a314-4a77-bebf-8f3292135a62')\"\n",
              "            title=\"Suggest charts\"\n",
              "            style=\"display:none;\">\n",
              "\n",
              "<svg xmlns=\"http://www.w3.org/2000/svg\" height=\"24px\"viewBox=\"0 0 24 24\"\n",
              "     width=\"24px\">\n",
              "    <g>\n",
              "        <path d=\"M19 3H5c-1.1 0-2 .9-2 2v14c0 1.1.9 2 2 2h14c1.1 0 2-.9 2-2V5c0-1.1-.9-2-2-2zM9 17H7v-7h2v7zm4 0h-2V7h2v10zm4 0h-2v-4h2v4z\"/>\n",
              "    </g>\n",
              "</svg>\n",
              "  </button>\n",
              "\n",
              "<style>\n",
              "  .colab-df-quickchart {\n",
              "      --bg-color: #E8F0FE;\n",
              "      --fill-color: #1967D2;\n",
              "      --hover-bg-color: #E2EBFA;\n",
              "      --hover-fill-color: #174EA6;\n",
              "      --disabled-fill-color: #AAA;\n",
              "      --disabled-bg-color: #DDD;\n",
              "  }\n",
              "\n",
              "  [theme=dark] .colab-df-quickchart {\n",
              "      --bg-color: #3B4455;\n",
              "      --fill-color: #D2E3FC;\n",
              "      --hover-bg-color: #434B5C;\n",
              "      --hover-fill-color: #FFFFFF;\n",
              "      --disabled-bg-color: #3B4455;\n",
              "      --disabled-fill-color: #666;\n",
              "  }\n",
              "\n",
              "  .colab-df-quickchart {\n",
              "    background-color: var(--bg-color);\n",
              "    border: none;\n",
              "    border-radius: 50%;\n",
              "    cursor: pointer;\n",
              "    display: none;\n",
              "    fill: var(--fill-color);\n",
              "    height: 32px;\n",
              "    padding: 0;\n",
              "    width: 32px;\n",
              "  }\n",
              "\n",
              "  .colab-df-quickchart:hover {\n",
              "    background-color: var(--hover-bg-color);\n",
              "    box-shadow: 0 1px 2px rgba(60, 64, 67, 0.3), 0 1px 3px 1px rgba(60, 64, 67, 0.15);\n",
              "    fill: var(--button-hover-fill-color);\n",
              "  }\n",
              "\n",
              "  .colab-df-quickchart-complete:disabled,\n",
              "  .colab-df-quickchart-complete:disabled:hover {\n",
              "    background-color: var(--disabled-bg-color);\n",
              "    fill: var(--disabled-fill-color);\n",
              "    box-shadow: none;\n",
              "  }\n",
              "\n",
              "  .colab-df-spinner {\n",
              "    border: 2px solid var(--fill-color);\n",
              "    border-color: transparent;\n",
              "    border-bottom-color: var(--fill-color);\n",
              "    animation:\n",
              "      spin 1s steps(1) infinite;\n",
              "  }\n",
              "\n",
              "  @keyframes spin {\n",
              "    0% {\n",
              "      border-color: transparent;\n",
              "      border-bottom-color: var(--fill-color);\n",
              "      border-left-color: var(--fill-color);\n",
              "    }\n",
              "    20% {\n",
              "      border-color: transparent;\n",
              "      border-left-color: var(--fill-color);\n",
              "      border-top-color: var(--fill-color);\n",
              "    }\n",
              "    30% {\n",
              "      border-color: transparent;\n",
              "      border-left-color: var(--fill-color);\n",
              "      border-top-color: var(--fill-color);\n",
              "      border-right-color: var(--fill-color);\n",
              "    }\n",
              "    40% {\n",
              "      border-color: transparent;\n",
              "      border-right-color: var(--fill-color);\n",
              "      border-top-color: var(--fill-color);\n",
              "    }\n",
              "    60% {\n",
              "      border-color: transparent;\n",
              "      border-right-color: var(--fill-color);\n",
              "    }\n",
              "    80% {\n",
              "      border-color: transparent;\n",
              "      border-right-color: var(--fill-color);\n",
              "      border-bottom-color: var(--fill-color);\n",
              "    }\n",
              "    90% {\n",
              "      border-color: transparent;\n",
              "      border-bottom-color: var(--fill-color);\n",
              "    }\n",
              "  }\n",
              "</style>\n",
              "\n",
              "  <script>\n",
              "    async function quickchart(key) {\n",
              "      const quickchartButtonEl =\n",
              "        document.querySelector('#' + key + ' button');\n",
              "      quickchartButtonEl.disabled = true;  // To prevent multiple clicks.\n",
              "      quickchartButtonEl.classList.add('colab-df-spinner');\n",
              "      try {\n",
              "        const charts = await google.colab.kernel.invokeFunction(\n",
              "            'suggestCharts', [key], {});\n",
              "      } catch (error) {\n",
              "        console.error('Error during call to suggestCharts:', error);\n",
              "      }\n",
              "      quickchartButtonEl.classList.remove('colab-df-spinner');\n",
              "      quickchartButtonEl.classList.add('colab-df-quickchart-complete');\n",
              "    }\n",
              "    (() => {\n",
              "      let quickchartButtonEl =\n",
              "        document.querySelector('#df-f8ce2971-a314-4a77-bebf-8f3292135a62 button');\n",
              "      quickchartButtonEl.style.display =\n",
              "        google.colab.kernel.accessAllowed ? 'block' : 'none';\n",
              "    })();\n",
              "  </script>\n",
              "</div>\n",
              "\n",
              "  <div id=\"id_d4913c4c-6079-4a39-a9ae-af167bec1282\">\n",
              "    <style>\n",
              "      .colab-df-generate {\n",
              "        background-color: #E8F0FE;\n",
              "        border: none;\n",
              "        border-radius: 50%;\n",
              "        cursor: pointer;\n",
              "        display: none;\n",
              "        fill: #1967D2;\n",
              "        height: 32px;\n",
              "        padding: 0 0 0 0;\n",
              "        width: 32px;\n",
              "      }\n",
              "\n",
              "      .colab-df-generate:hover {\n",
              "        background-color: #E2EBFA;\n",
              "        box-shadow: 0px 1px 2px rgba(60, 64, 67, 0.3), 0px 1px 3px 1px rgba(60, 64, 67, 0.15);\n",
              "        fill: #174EA6;\n",
              "      }\n",
              "\n",
              "      [theme=dark] .colab-df-generate {\n",
              "        background-color: #3B4455;\n",
              "        fill: #D2E3FC;\n",
              "      }\n",
              "\n",
              "      [theme=dark] .colab-df-generate:hover {\n",
              "        background-color: #434B5C;\n",
              "        box-shadow: 0px 1px 3px 1px rgba(0, 0, 0, 0.15);\n",
              "        filter: drop-shadow(0px 1px 2px rgba(0, 0, 0, 0.3));\n",
              "        fill: #FFFFFF;\n",
              "      }\n",
              "    </style>\n",
              "    <button class=\"colab-df-generate\" onclick=\"generateWithVariable('df')\"\n",
              "            title=\"Generate code using this dataframe.\"\n",
              "            style=\"display:none;\">\n",
              "\n",
              "  <svg xmlns=\"http://www.w3.org/2000/svg\" height=\"24px\"viewBox=\"0 0 24 24\"\n",
              "       width=\"24px\">\n",
              "    <path d=\"M7,19H8.4L18.45,9,17,7.55,7,17.6ZM5,21V16.75L18.45,3.32a2,2,0,0,1,2.83,0l1.4,1.43a1.91,1.91,0,0,1,.58,1.4,1.91,1.91,0,0,1-.58,1.4L9.25,21ZM18.45,9,17,7.55Zm-12,3A5.31,5.31,0,0,0,4.9,8.1,5.31,5.31,0,0,0,1,6.5,5.31,5.31,0,0,0,4.9,4.9,5.31,5.31,0,0,0,6.5,1,5.31,5.31,0,0,0,8.1,4.9,5.31,5.31,0,0,0,12,6.5,5.46,5.46,0,0,0,6.5,12Z\"/>\n",
              "  </svg>\n",
              "    </button>\n",
              "    <script>\n",
              "      (() => {\n",
              "      const buttonEl =\n",
              "        document.querySelector('#id_d4913c4c-6079-4a39-a9ae-af167bec1282 button.colab-df-generate');\n",
              "      buttonEl.style.display =\n",
              "        google.colab.kernel.accessAllowed ? 'block' : 'none';\n",
              "\n",
              "      buttonEl.onclick = () => {\n",
              "        google.colab.notebook.generateWithVariable('df');\n",
              "      }\n",
              "      })();\n",
              "    </script>\n",
              "  </div>\n",
              "\n",
              "    </div>\n",
              "  </div>\n"
            ],
            "application/vnd.google.colaboratory.intrinsic+json": {
              "type": "dataframe",
              "variable_name": "df",
              "summary": "{\n  \"name\": \"df\",\n  \"rows\": 12,\n  \"fields\": [\n    {\n      \"column\": \"x1\",\n      \"properties\": {\n        \"dtype\": \"number\",\n        \"std\": 3,\n        \"min\": -4,\n        \"max\": 6,\n        \"num_unique_values\": 11,\n        \"samples\": [\n          5,\n          3,\n          4\n        ],\n        \"semantic_type\": \"\",\n        \"description\": \"\"\n      }\n    },\n    {\n      \"column\": \"x2\",\n      \"properties\": {\n        \"dtype\": \"number\",\n        \"std\": 2,\n        \"min\": -3,\n        \"max\": 4,\n        \"num_unique_values\": 8,\n        \"samples\": [\n          -2,\n          2,\n          1\n        ],\n        \"semantic_type\": \"\",\n        \"description\": \"\"\n      }\n    },\n    {\n      \"column\": \"kelas\",\n      \"properties\": {\n        \"dtype\": \"category\",\n        \"num_unique_values\": 2,\n        \"samples\": [\n          \"B\",\n          \"A\"\n        ],\n        \"semantic_type\": \"\",\n        \"description\": \"\"\n      }\n    }\n  ]\n}"
            }
          },
          "metadata": {},
          "execution_count": 581
        }
      ]
    },
    {
      "cell_type": "code",
      "source": [
        "# Menghitung mean untuk setiap kelas\n",
        "mean_A = X[y == 'A'].mean(axis=0)\n",
        "mean_B = X[y == 'B'].mean(axis=0)\n",
        "\n",
        "# Menampilkan hasil mean untuk masing-masing kelas\n",
        "print(\"Mean Kelas A:\", mean_A)\n",
        "print(\"Mean Kelas B:\", mean_B)"
      ],
      "metadata": {
        "colab": {
          "base_uri": "https://localhost:8080/"
        },
        "id": "GfwhuahFUDCz",
        "outputId": "7bc66134-f464-4171-a753-1c0d6269b6c2"
      },
      "execution_count": 582,
      "outputs": [
        {
          "output_type": "stream",
          "name": "stdout",
          "text": [
            "Mean Kelas A: [1. 0.]\n",
            "Mean Kelas B: [1.16666667 0.83333333]\n"
          ]
        }
      ]
    },
    {
      "cell_type": "code",
      "source": [
        "# Inisialisasi matriks scatter dalam kelas\n",
        "Sw = np.zeros((2, 2))\n",
        "\n",
        "# Menghitung matriks scatter dalam kelas (Sw)\n",
        "for i in range(len(X)):\n",
        "    x = X[i].reshape(2, 1)\n",
        "    if y[i] == 'A':\n",
        "        mean_vec = mean_A.reshape(2, 1)\n",
        "    else:\n",
        "        mean_vec = mean_B.reshape(2, 1)\n",
        "    Sw += (x - mean_vec).dot((x - mean_vec).T)\n",
        "\n",
        "# Menampilkan matriks scatter dalam kelas\n",
        "print(\"Within-Class Scatter Matrix (Sw):\\n\", Sw)"
      ],
      "metadata": {
        "colab": {
          "base_uri": "https://localhost:8080/"
        },
        "id": "jgyxmZ2JUTKi",
        "outputId": "7e512edd-dc94-49fc-f6e5-b42552ab5605"
      },
      "execution_count": 583,
      "outputs": [
        {
          "output_type": "stream",
          "name": "stdout",
          "text": [
            "Within-Class Scatter Matrix (Sw):\n",
            " [[110.83333333 -23.83333333]\n",
            " [-23.83333333  54.83333333]]\n"
          ]
        }
      ]
    },
    {
      "cell_type": "code",
      "source": [
        "# Menghitung rata-rata total\n",
        "mean_total = np.mean(X, axis=0).reshape(2, 1)\n",
        "mean_A = mean_A.reshape(2, 1)\n",
        "mean_B = mean_B.reshape(2, 1)\n",
        "\n",
        "# Menghitung matriks scatter antar kelas (Sb)\n",
        "Sb = 140 * (mean_A - mean_total).dot((mean_A - mean_total).T) + 140 *(mean_B - mean_total).dot((mean_B - mean_total).T)\n",
        "\n",
        "# Menampilkan matriks scatter antar kelas\n",
        "print(\"Between-Class Scatter Matrix (Sb):\\n\", Sb)"
      ],
      "metadata": {
        "colab": {
          "base_uri": "https://localhost:8080/"
        },
        "id": "K61jUomPUW4p",
        "outputId": "6ba22e49-083c-41e2-aa79-47f9a09d911f"
      },
      "execution_count": 584,
      "outputs": [
        {
          "output_type": "stream",
          "name": "stdout",
          "text": [
            "Between-Class Scatter Matrix (Sb):\n",
            " [[ 1.94444444  9.72222222]\n",
            " [ 9.72222222 48.61111111]]\n"
          ]
        }
      ]
    },
    {
      "cell_type": "code",
      "source": [
        "# Menyelesaikan persamaan nilai eigen\n",
        "eig_vals, eig_vecs = np.linalg.eig(np.linalg.inv(Sw).dot(Sb))\n",
        "\n",
        "# Menampilkan nilai eigen dan vektor eigen\n",
        "print(\"Nilai Eigen:\\n\", eig_vals)\n",
        "print(\"Vektor Eigen:\\n\", eig_vecs)"
      ],
      "metadata": {
        "colab": {
          "base_uri": "https://localhost:8080/"
        },
        "id": "yASkQunsUZNZ",
        "outputId": "e410be37-3bad-4002-d3eb-6869988fe7e7"
      },
      "execution_count": 585,
      "outputs": [
        {
          "output_type": "stream",
          "name": "stdout",
          "text": [
            "Nilai Eigen:\n",
            " [0.         1.08139722]\n",
            "Vektor Eigen:\n",
            " [[-0.98058068 -0.28825968]\n",
            " [ 0.19611614 -0.95755227]]\n"
          ]
        }
      ]
    },
    {
      "cell_type": "code",
      "source": [
        "# Memilih indeks nilai eigen tertinggi\n",
        "idx = np.argmax(eig_vals)\n",
        "\n",
        "# Memilih vektor eigen yang sesuai dengan nilai eigen tertinggi\n",
        "w = eig_vecs[:, idx]\n",
        "\n",
        "# Menampilkan vektor proyeksi\n",
        "print(\"Vektor Proyeksi (w):\\n\", w)"
      ],
      "metadata": {
        "colab": {
          "base_uri": "https://localhost:8080/"
        },
        "id": "cni1Y9VxUbci",
        "outputId": "879d9a3f-fccf-4800-dccf-2c479bd1c777"
      },
      "execution_count": 586,
      "outputs": [
        {
          "output_type": "stream",
          "name": "stdout",
          "text": [
            "Vektor Proyeksi (w):\n",
            " [-0.28825968 -0.95755227]\n"
          ]
        }
      ]
    },
    {
      "cell_type": "code",
      "source": [
        "# Memproyeksikan data ke dimensi yang lebih rendah\n",
        "X_lda = X.dot(w)\n",
        "\n",
        "# Menampilkan data setelah proyeksi LDA\n",
        "print(\"Data setelah proyeksi LDA:\\n\", X_lda)"
      ],
      "metadata": {
        "colab": {
          "base_uri": "https://localhost:8080/"
        },
        "id": "6Q2RFWkPUeGZ",
        "outputId": "8b4bc601-b806-4551-9a42-da7bf03481b6"
      },
      "execution_count": 587,
      "outputs": [
        {
          "output_type": "stream",
          "name": "stdout",
          "text": [
            "Data setelah proyeksi LDA:\n",
            " [-1.82233132  2.20336423 -3.44917618  1.53407164 -0.28825968 -3.35640295\n",
            "  1.14309873 -2.00787778  1.91510455 -2.110591   -2.67717037  0.38103291]\n"
          ]
        }
      ]
    },
    {
      "cell_type": "code",
      "source": [
        "# Membuat model LDA dengan 1 komponen\n",
        "lda = LinearDiscriminantAnalysis(n_components=1)\n",
        "\n",
        "# Memproyeksikan data menggunakan LDA Scikit-Learn\n",
        "X_lda_sklearn = lda.fit_transform(X, y)\n",
        "\n",
        "# Menampilkan data setelah proyeksi LDA\n",
        "print(\"Data setelah proyeksi LDA (Scikit-Learn):\\n\", X_lda_sklearn)"
      ],
      "metadata": {
        "colab": {
          "base_uri": "https://localhost:8080/"
        },
        "id": "qJQnqlnVUg0D",
        "outputId": "22d64b2b-9876-4375-b8ce-c6fd77e8025f"
      },
      "execution_count": 588,
      "outputs": [
        {
          "output_type": "stream",
          "name": "stdout",
          "text": [
            "Data setelah proyeksi LDA (Scikit-Learn):\n",
            " [[ 0.51619384]\n",
            " [-1.35411087]\n",
            " [ 1.27201245]\n",
            " [-1.0431631 ]\n",
            " [-0.1965231 ]\n",
            " [ 1.22891078]\n",
            " [-0.86152033]\n",
            " [ 0.60239718]\n",
            " [-1.22018782]\n",
            " [ 0.65011689]\n",
            " [ 0.91334496]\n",
            " [-0.50747088]]\n"
          ]
        }
      ]
    },
    {
      "cell_type": "code",
      "source": [
        "import matplotlib.pyplot as plt\n",
        "\n",
        "# Plot data sebelum LDA\n",
        "plt.figure(figsize=(10, 5))\n",
        "plt.subplot(1, 2, 1)\n",
        "plt.scatter(X[y == 'A', 0], X[y == 'A', 1], label='Kelas A')\n",
        "plt.scatter(X[y == 'B', 0], X[y == 'B', 1], label='Kelas B')\n",
        "plt.xlabel('x1')\n",
        "plt.ylabel('x2')\n",
        "plt.title('Data Sebelum LDA')\n",
        "plt.legend()\n",
        "\n",
        "# Plot data sesudah LDA\n",
        "plt.subplot(1, 2, 2)\n",
        "plt.scatter(X_lda[y == 'A'], np.zeros_like(X_lda[y == 'A']), label='Kelas A')\n",
        "plt.scatter(X_lda[y == 'B'], np.zeros_like(X_lda[y == 'B']), label='Kelas B')\n",
        "plt.xlabel('Dimensi LDA')\n",
        "plt.title('Data Sesudah LDA')\n",
        "plt.legend()\n",
        "\n",
        "plt.tight_layout()\n",
        "plt.show()"
      ],
      "metadata": {
        "colab": {
          "base_uri": "https://localhost:8080/",
          "height": 430
        },
        "id": "M-KuDGRFV9A0",
        "outputId": "c4530ca6-d2e2-4f13-c475-0cca9db83b79"
      },
      "execution_count": 589,
      "outputs": [
        {
          "output_type": "display_data",
          "data": {
            "text/plain": [
              "<Figure size 1000x500 with 2 Axes>"
            ],
            "image/png": "[encoded data removed]"
          },
          "metadata": {}
        }
      ]
    },
    {
      "cell_type": "code",
      "source": [
        "import matplotlib.pyplot as plt\n",
        "\n",
        "# Plot data sebelum LDA\n",
        "plt.figure(figsize=(10, 5))\n",
        "plt.subplot(1, 2, 1)\n",
        "plt.scatter(X[y == 'A', 0], X[y == 'A', 1], label='Kelas A')\n",
        "plt.scatter(X[y == 'B', 0], X[y == 'B', 1], label='Kelas B')\n",
        "plt.xlabel('x1')\n",
        "plt.ylabel('x2')\n",
        "plt.title('Data Sebelum LDA')\n",
        "plt.legend()\n",
        "\n",
        "# Plot data sesudah LDA\n",
        "plt.subplot(1, 2, 2)\n",
        "plt.scatter(X_lda_sklearn[y == 'A'], np.zeros_like(X_lda_sklearn[y == 'A']), label='Kelas A')\n",
        "plt.scatter(X_lda_sklearn[y == 'B'], np.zeros_like(X_lda_sklearn[y == 'B']), label='Kelas B')\n",
        "plt.xlabel('Dimensi LDA')\n",
        "plt.title('Data Sesudah LDA')\n",
        "plt.legend()\n",
        "\n",
        "plt.tight_layout()\n",
        "plt.show()"
      ],
      "metadata": {
        "colab": {
          "base_uri": "https://localhost:8080/",
          "height": 430
        },
        "id": "Xr2cS3Utb8yM",
        "outputId": "307a4524-fc8f-4c61-a737-eb3197c27dbf"
      },
      "execution_count": 590,
      "outputs": [
        {
          "output_type": "display_data",
          "data": {
            "text/plain": [
              "<Figure size 1000x500 with 2 Axes>"
            ],
            "image/png": "[encoded data removed]"
          },
          "metadata": {}
        }
      ]
    },
    {
      "cell_type": "markdown",
      "source": [
        "## Soal 2"
      ],
      "metadata": {
        "id": "RgxgPXgfWHmr"
      }
    },
    {
      "cell_type": "code",
      "source": [
        "import pandas as pd\n",
        "\n",
        "# Mendefinisikan data\n",
        "dataa = {\n",
        "    'X1': [1, 2, 3, 5, 2, 4, 1, 3, 4, 5],\n",
        "    'X2': [3, 2, 4, 1, 3, 3, 2, 2, 1, 4],\n",
        "    'kelas': ['X', 'X', 'Y', 'Y', 'X', 'X', 'X', 'Y', 'Y', 'Y', ]\n",
        "}\n",
        "\n",
        "# Membuat DataFrame\n",
        "df1 = pd.DataFrame(dataa)\n",
        "\n",
        "# Mendefinisikan fitur (X) dan label kelas (y)\n",
        "C = df1[['X1', 'X2']].values\n",
        "d = df1['kelas'].values\n",
        "df1"
      ],
      "metadata": {
        "colab": {
          "base_uri": "https://localhost:8080/",
          "height": 363
        },
        "id": "Nhofey20WAl8",
        "outputId": "63eaf3ba-7d21-4f95-8247-1932e0f11024"
      },
      "execution_count": 591,
      "outputs": [
        {
          "output_type": "execute_result",
          "data": {
            "text/plain": [
              "   X1  X2 kelas\n",
              "0   1   3     X\n",
              "1   2   2     X\n",
              "2   3   4     Y\n",
              "3   5   1     Y\n",
              "4   2   3     X\n",
              "5   4   3     X\n",
              "6   1   2     X\n",
              "7   3   2     Y\n",
              "8   4   1     Y\n",
              "9   5   4     Y"
            ],
            "text/html": [
              "\n",
              "  <div id=\"df-fc0435e4-d564-4e5c-a2d8-50021dbafce3\" class=\"colab-df-container\">\n",
              "    <div>\n",
              "<style scoped>\n",
              "    .dataframe tbody tr th:only-of-type {\n",
              "        vertical-align: middle;\n",
              "    }\n",
              "\n",
              "    .dataframe tbody tr th {\n",
              "        vertical-align: top;\n",
              "    }\n",
              "\n",
              "    .dataframe thead th {\n",
              "        text-align: right;\n",
              "    }\n",
              "</style>\n",
              "<table border=\"1\" class=\"dataframe\">\n",
              "  <thead>\n",
              "    <tr style=\"text-align: right;\">\n",
              "      <th></th>\n",
              "      <th>X1</th>\n",
              "      <th>X2</th>\n",
              "      <th>kelas</th>\n",
              "    </tr>\n",
              "  </thead>\n",
              "  <tbody>\n",
              "    <tr>\n",
              "      <th>0</th>\n",
              "      <td>1</td>\n",
              "      <td>3</td>\n",
              "      <td>X</td>\n",
              "    </tr>\n",
              "    <tr>\n",
              "      <th>1</th>\n",
              "      <td>2</td>\n",
              "      <td>2</td>\n",
              "      <td>X</td>\n",
              "    </tr>\n",
              "    <tr>\n",
              "      <th>2</th>\n",
              "      <td>3</td>\n",
              "      <td>4</td>\n",
              "      <td>Y</td>\n",
              "    </tr>\n",
              "    <tr>\n",
              "      <th>3</th>\n",
              "      <td>5</td>\n",
              "      <td>1</td>\n",
              "      <td>Y</td>\n",
              "    </tr>\n",
              "    <tr>\n",
              "      <th>4</th>\n",
              "      <td>2</td>\n",
              "      <td>3</td>\n",
              "      <td>X</td>\n",
              "    </tr>\n",
              "    <tr>\n",
              "      <th>5</th>\n",
              "      <td>4</td>\n",
              "      <td>3</td>\n",
              "      <td>X</td>\n",
              "    </tr>\n",
              "    <tr>\n",
              "      <th>6</th>\n",
              "      <td>1</td>\n",
              "      <td>2</td>\n",
              "      <td>X</td>\n",
              "    </tr>\n",
              "    <tr>\n",
              "      <th>7</th>\n",
              "      <td>3</td>\n",
              "      <td>2</td>\n",
              "      <td>Y</td>\n",
              "    </tr>\n",
              "    <tr>\n",
              "      <th>8</th>\n",
              "      <td>4</td>\n",
              "      <td>1</td>\n",
              "      <td>Y</td>\n",
              "    </tr>\n",
              "    <tr>\n",
              "      <th>9</th>\n",
              "      <td>5</td>\n",
              "      <td>4</td>\n",
              "      <td>Y</td>\n",
              "    </tr>\n",
              "  </tbody>\n",
              "</table>\n",
              "</div>\n",
              "    <div class=\"colab-df-buttons\">\n",
              "\n",
              "  <div class=\"colab-df-container\">\n",
              "    <button class=\"colab-df-convert\" onclick=\"convertToInteractive('df-fc0435e4-d564-4e5c-a2d8-50021dbafce3')\"\n",
              "            title=\"Convert this dataframe to an interactive table.\"\n",
              "            style=\"display:none;\">\n",
              "\n",
              "  <svg xmlns=\"http://www.w3.org/2000/svg\" height=\"24px\" viewBox=\"0 -960 960 960\">\n",
              "    <path d=\"M120-120v-720h720v720H120Zm60-500h600v-160H180v160Zm220 220h160v-160H400v160Zm0 220h160v-160H400v160ZM180-400h160v-160H180v160Zm440 0h160v-160H620v160ZM180-180h160v-160H180v160Zm440 0h160v-160H620v160Z\"/>\n",
              "  </svg>\n",
              "    </button>\n",
              "\n",
              "  <style>\n",
              "    .colab-df-container {\n",
              "      display:flex;\n",
              "      gap: 12px;\n",
              "    }\n",
              "\n",
              "    .colab-df-convert {\n",
              "      background-color: #E8F0FE;\n",
              "      border: none;\n",
              "      border-radius: 50%;\n",
              "      cursor: pointer;\n",
              "      display: none;\n",
              "      fill: #1967D2;\n",
              "      height: 32px;\n",
              "      padding: 0 0 0 0;\n",
              "      width: 32px;\n",
              "    }\n",
              "\n",
              "    .colab-df-convert:hover {\n",
              "      background-color: #E2EBFA;\n",
              "      box-shadow: 0px 1px 2px rgba(60, 64, 67, 0.3), 0px 1px 3px 1px rgba(60, 64, 67, 0.15);\n",
              "      fill: #174EA6;\n",
              "    }\n",
              "\n",
              "    .colab-df-buttons div {\n",
              "      margin-bottom: 4px;\n",
              "    }\n",
              "\n",
              "    [theme=dark] .colab-df-convert {\n",
              "      background-color: #3B4455;\n",
              "      fill: #D2E3FC;\n",
              "    }\n",
              "\n",
              "    [theme=dark] .colab-df-convert:hover {\n",
              "      background-color: #434B5C;\n",
              "      box-shadow: 0px 1px 3px 1px rgba(0, 0, 0, 0.15);\n",
              "      filter: drop-shadow(0px 1px 2px rgba(0, 0, 0, 0.3));\n",
              "      fill: #FFFFFF;\n",
              "    }\n",
              "  </style>\n",
              "\n",
              "    <script>\n",
              "      const buttonEl =\n",
              "        document.querySelector('#df-fc0435e4-d564-4e5c-a2d8-50021dbafce3 button.colab-df-convert');\n",
              "      buttonEl.style.display =\n",
              "        google.colab.kernel.accessAllowed ? 'block' : 'none';\n",
              "\n",
              "      async function convertToInteractive(key) {\n",
              "        const element = document.querySelector('#df-fc0435e4-d564-4e5c-a2d8-50021dbafce3');\n",
              "        const dataTable =\n",
              "          await google.colab.kernel.invokeFunction('convertToInteractive',\n",
              "                                                    [key], {});\n",
              "        if (!dataTable) return;\n",
              "\n",
              "        const docLinkHtml = 'Like what you see? Visit the ' +\n",
              "          '<a target=\"_blank\" href=https://colab.research.google.com/notebooks/data_table.ipynb>data table notebook</a>'\n",
              "          + ' to learn more about interactive tables.';\n",
              "        element.innerHTML = '';\n",
              "        dataTable['output_type'] = 'display_data';\n",
              "        await google.colab.output.renderOutput(dataTable, element);\n",
              "        const docLink = document.createElement('div');\n",
              "        docLink.innerHTML = docLinkHtml;\n",
              "        element.appendChild(docLink);\n",
              "      }\n",
              "    </script>\n",
              "  </div>\n",
              "\n",
              "\n",
              "<div id=\"df-18cc22cc-ec0a-4324-a5a4-2114f8878e3b\">\n",
              "  <button class=\"colab-df-quickchart\" onclick=\"quickchart('df-18cc22cc-ec0a-4324-a5a4-2114f8878e3b')\"\n",
              "            title=\"Suggest charts\"\n",
              "            style=\"display:none;\">\n",
              "\n",
              "<svg xmlns=\"http://www.w3.org/2000/svg\" height=\"24px\"viewBox=\"0 0 24 24\"\n",
              "     width=\"24px\">\n",
              "    <g>\n",
              "        <path d=\"M19 3H5c-1.1 0-2 .9-2 2v14c0 1.1.9 2 2 2h14c1.1 0 2-.9 2-2V5c0-1.1-.9-2-2-2zM9 17H7v-7h2v7zm4 0h-2V7h2v10zm4 0h-2v-4h2v4z\"/>\n",
              "    </g>\n",
              "</svg>\n",
              "  </button>\n",
              "\n",
              "<style>\n",
              "  .colab-df-quickchart {\n",
              "      --bg-color: #E8F0FE;\n",
              "      --fill-color: #1967D2;\n",
              "      --hover-bg-color: #E2EBFA;\n",
              "      --hover-fill-color: #174EA6;\n",
              "      --disabled-fill-color: #AAA;\n",
              "      --disabled-bg-color: #DDD;\n",
              "  }\n",
              "\n",
              "  [theme=dark] .colab-df-quickchart {\n",
              "      --bg-color: #3B4455;\n",
              "      --fill-color: #D2E3FC;\n",
              "      --hover-bg-color: #434B5C;\n",
              "      --hover-fill-color: #FFFFFF;\n",
              "      --disabled-bg-color: #3B4455;\n",
              "      --disabled-fill-color: #666;\n",
              "  }\n",
              "\n",
              "  .colab-df-quickchart {\n",
              "    background-color: var(--bg-color);\n",
              "    border: none;\n",
              "    border-radius: 50%;\n",
              "    cursor: pointer;\n",
              "    display: none;\n",
              "    fill: var(--fill-color);\n",
              "    height: 32px;\n",
              "    padding: 0;\n",
              "    width: 32px;\n",
              "  }\n",
              "\n",
              "  .colab-df-quickchart:hover {\n",
              "    background-color: var(--hover-bg-color);\n",
              "    box-shadow: 0 1px 2px rgba(60, 64, 67, 0.3), 0 1px 3px 1px rgba(60, 64, 67, 0.15);\n",
              "    fill: var(--button-hover-fill-color);\n",
              "  }\n",
              "\n",
              "  .colab-df-quickchart-complete:disabled,\n",
              "  .colab-df-quickchart-complete:disabled:hover {\n",
              "    background-color: var(--disabled-bg-color);\n",
              "    fill: var(--disabled-fill-color);\n",
              "    box-shadow: none;\n",
              "  }\n",
              "\n",
              "  .colab-df-spinner {\n",
              "    border: 2px solid var(--fill-color);\n",
              "    border-color: transparent;\n",
              "    border-bottom-color: var(--fill-color);\n",
              "    animation:\n",
              "      spin 1s steps(1) infinite;\n",
              "  }\n",
              "\n",
              "  @keyframes spin {\n",
              "    0% {\n",
              "      border-color: transparent;\n",
              "      border-bottom-color: var(--fill-color);\n",
              "      border-left-color: var(--fill-color);\n",
              "    }\n",
              "    20% {\n",
              "      border-color: transparent;\n",
              "      border-left-color: var(--fill-color);\n",
              "      border-top-color: var(--fill-color);\n",
              "    }\n",
              "    30% {\n",
              "      border-color: transparent;\n",
              "      border-left-color: var(--fill-color);\n",
              "      border-top-color: var(--fill-color);\n",
              "      border-right-color: var(--fill-color);\n",
              "    }\n",
              "    40% {\n",
              "      border-color: transparent;\n",
              "      border-right-color: var(--fill-color);\n",
              "      border-top-color: var(--fill-color);\n",
              "    }\n",
              "    60% {\n",
              "      border-color: transparent;\n",
              "      border-right-color: var(--fill-color);\n",
              "    }\n",
              "    80% {\n",
              "      border-color: transparent;\n",
              "      border-right-color: var(--fill-color);\n",
              "      border-bottom-color: var(--fill-color);\n",
              "    }\n",
              "    90% {\n",
              "      border-color: transparent;\n",
              "      border-bottom-color: var(--fill-color);\n",
              "    }\n",
              "  }\n",
              "</style>\n",
              "\n",
              "  <script>\n",
              "    async function quickchart(key) {\n",
              "      const quickchartButtonEl =\n",
              "        document.querySelector('#' + key + ' button');\n",
              "      quickchartButtonEl.disabled = true;  // To prevent multiple clicks.\n",
              "      quickchartButtonEl.classList.add('colab-df-spinner');\n",
              "      try {\n",
              "        const charts = await google.colab.kernel.invokeFunction(\n",
              "            'suggestCharts', [key], {});\n",
              "      } catch (error) {\n",
              "        console.error('Error during call to suggestCharts:', error);\n",
              "      }\n",
              "      quickchartButtonEl.classList.remove('colab-df-spinner');\n",
              "      quickchartButtonEl.classList.add('colab-df-quickchart-complete');\n",
              "    }\n",
              "    (() => {\n",
              "      let quickchartButtonEl =\n",
              "        document.querySelector('#df-18cc22cc-ec0a-4324-a5a4-2114f8878e3b button');\n",
              "      quickchartButtonEl.style.display =\n",
              "        google.colab.kernel.accessAllowed ? 'block' : 'none';\n",
              "    })();\n",
              "  </script>\n",
              "</div>\n",
              "\n",
              "  <div id=\"id_46aaa504-029e-4848-b50b-d2c3519620ae\">\n",
              "    <style>\n",
              "      .colab-df-generate {\n",
              "        background-color: #E8F0FE;\n",
              "        border: none;\n",
              "        border-radius: 50%;\n",
              "        cursor: pointer;\n",
              "        display: none;\n",
              "        fill: #1967D2;\n",
              "        height: 32px;\n",
              "        padding: 0 0 0 0;\n",
              "        width: 32px;\n",
              "      }\n",
              "\n",
              "      .colab-df-generate:hover {\n",
              "        background-color: #E2EBFA;\n",
              "        box-shadow: 0px 1px 2px rgba(60, 64, 67, 0.3), 0px 1px 3px 1px rgba(60, 64, 67, 0.15);\n",
              "        fill: #174EA6;\n",
              "      }\n",
              "\n",
              "      [theme=dark] .colab-df-generate {\n",
              "        background-color: #3B4455;\n",
              "        fill: #D2E3FC;\n",
              "      }\n",
              "\n",
              "      [theme=dark] .colab-df-generate:hover {\n",
              "        background-color: #434B5C;\n",
              "        box-shadow: 0px 1px 3px 1px rgba(0, 0, 0, 0.15);\n",
              "        filter: drop-shadow(0px 1px 2px rgba(0, 0, 0, 0.3));\n",
              "        fill: #FFFFFF;\n",
              "      }\n",
              "    </style>\n",
              "    <button class=\"colab-df-generate\" onclick=\"generateWithVariable('df1')\"\n",
              "            title=\"Generate code using this dataframe.\"\n",
              "            style=\"display:none;\">\n",
              "\n",
              "  <svg xmlns=\"http://www.w3.org/2000/svg\" height=\"24px\"viewBox=\"0 0 24 24\"\n",
              "       width=\"24px\">\n",
              "    <path d=\"M7,19H8.4L18.45,9,17,7.55,7,17.6ZM5,21V16.75L18.45,3.32a2,2,0,0,1,2.83,0l1.4,1.43a1.91,1.91,0,0,1,.58,1.4,1.91,1.91,0,0,1-.58,1.4L9.25,21ZM18.45,9,17,7.55Zm-12,3A5.31,5.31,0,0,0,4.9,8.1,5.31,5.31,0,0,0,1,6.5,5.31,5.31,0,0,0,4.9,4.9,5.31,5.31,0,0,0,6.5,1,5.31,5.31,0,0,0,8.1,4.9,5.31,5.31,0,0,0,12,6.5,5.46,5.46,0,0,0,6.5,12Z\"/>\n",
              "  </svg>\n",
              "    </button>\n",
              "    <script>\n",
              "      (() => {\n",
              "      const buttonEl =\n",
              "        document.querySelector('#id_46aaa504-029e-4848-b50b-d2c3519620ae button.colab-df-generate');\n",
              "      buttonEl.style.display =\n",
              "        google.colab.kernel.accessAllowed ? 'block' : 'none';\n",
              "\n",
              "      buttonEl.onclick = () => {\n",
              "        google.colab.notebook.generateWithVariable('df1');\n",
              "      }\n",
              "      })();\n",
              "    </script>\n",
              "  </div>\n",
              "\n",
              "    </div>\n",
              "  </div>\n"
            ],
            "application/vnd.google.colaboratory.intrinsic+json": {
              "type": "dataframe",
              "variable_name": "df1",
              "summary": "{\n  \"name\": \"df1\",\n  \"rows\": 10,\n  \"fields\": [\n    {\n      \"column\": \"X1\",\n      \"properties\": {\n        \"dtype\": \"number\",\n        \"std\": 1,\n        \"min\": 1,\n        \"max\": 5,\n        \"num_unique_values\": 5,\n        \"samples\": [\n          2,\n          4,\n          3\n        ],\n        \"semantic_type\": \"\",\n        \"description\": \"\"\n      }\n    },\n    {\n      \"column\": \"X2\",\n      \"properties\": {\n        \"dtype\": \"number\",\n        \"std\": 1,\n        \"min\": 1,\n        \"max\": 4,\n        \"num_unique_values\": 4,\n        \"samples\": [\n          2,\n          1,\n          3\n        ],\n        \"semantic_type\": \"\",\n        \"description\": \"\"\n      }\n    },\n    {\n      \"column\": \"kelas\",\n      \"properties\": {\n        \"dtype\": \"category\",\n        \"num_unique_values\": 2,\n        \"samples\": [\n          \"Y\",\n          \"X\"\n        ],\n        \"semantic_type\": \"\",\n        \"description\": \"\"\n      }\n    }\n  ]\n}"
            }
          },
          "metadata": {},
          "execution_count": 591
        }
      ]
    },
    {
      "cell_type": "code",
      "source": [
        "# Menghitung mean untuk setiap kelas\n",
        "mean_X = C[d == 'X'].mean(axis=0)\n",
        "mean_Y = C[d == 'Y'].mean(axis=0)\n",
        "\n",
        "# Menampilkan hasil mean untuk masing-masing kelas\n",
        "print(\"Mean Kelas X:\", mean_X)\n",
        "print(\"Mean Kelas Y:\", mean_Y)"
      ],
      "metadata": {
        "colab": {
          "base_uri": "https://localhost:8080/"
        },
        "id": "7vz6-AkJXd5m",
        "outputId": "838a7b6a-1c9b-4813-9130-d3a057c66f95"
      },
      "execution_count": 592,
      "outputs": [
        {
          "output_type": "stream",
          "name": "stdout",
          "text": [
            "Mean Kelas X: [2.  2.6]\n",
            "Mean Kelas Y: [4.  2.4]\n"
          ]
        }
      ]
    },
    {
      "cell_type": "code",
      "source": [
        "# Inisialisasi matriks scatter dalam kelas\n",
        "Sw1 = np.zeros((2, 2))\n",
        "\n",
        "# Menghitung matriks scatter dalam kelas (Sw)\n",
        "for i in range(len(C)):\n",
        "    x = C[i].reshape(2, 1)\n",
        "    if d[i] == 'X':\n",
        "        mean_vecc = mean_X.reshape(2, 1)\n",
        "    else:\n",
        "        mean_vecc = mean_Y.reshape(2, 1)\n",
        "    Sw1 += (x - mean_vecc).dot((x - mean_vecc).T)\n",
        "\n",
        "# Menampilkan matriks scatter dalam kelas\n",
        "print(\"Within-Class Scatter Matrix (Sw):\\n\", Sw1)"
      ],
      "metadata": {
        "colab": {
          "base_uri": "https://localhost:8080/"
        },
        "id": "7G5uOLsRZGa4",
        "outputId": "49377c0f-76ce-4469-9623-291af71d684e"
      },
      "execution_count": 593,
      "outputs": [
        {
          "output_type": "stream",
          "name": "stdout",
          "text": [
            "Within-Class Scatter Matrix (Sw):\n",
            " [[10.   0. ]\n",
            " [ 0.  10.4]]\n"
          ]
        }
      ]
    },
    {
      "cell_type": "code",
      "source": [
        "# Menghitung rata-rata total\n",
        "mean_tot = np.mean(C, axis=0).reshape(2, 1)\n",
        "mean_X = mean_X.reshape(2, 1)\n",
        "mean_Y = mean_Y.reshape(2, 1)\n",
        "\n",
        "# Menghitung matriks scatter antar kelas (Sb)\n",
        "Sb1 = 5 * (mean_X - mean_tot).dot((mean_X - mean_tot).T) + 5 * (mean_Y - mean_tot).dot((mean_Y - mean_tot).T)\n",
        "\n",
        "# Menampilkan matriks scatter antar kelas\n",
        "print(\"Between-Class Scatter Matrix (Sb):\\n\", Sb1)"
      ],
      "metadata": {
        "colab": {
          "base_uri": "https://localhost:8080/"
        },
        "id": "cvN0sRefZSMS",
        "outputId": "a44ca5d1-56b3-40bc-b8e9-a0c71d861646"
      },
      "execution_count": 594,
      "outputs": [
        {
          "output_type": "stream",
          "name": "stdout",
          "text": [
            "Between-Class Scatter Matrix (Sb):\n",
            " [[10.  -1. ]\n",
            " [-1.   0.1]]\n"
          ]
        }
      ]
    },
    {
      "cell_type": "code",
      "source": [
        "# Menyelesaikan persamaan nilai eigen\n",
        "eig_vals1, eig_vecs1 = np.linalg.eig(np.linalg.inv(Sw1).dot(Sb1))\n",
        "\n",
        "# Menampilkan nilai eigen dan vektor eigen\n",
        "print(\"Nilai Eigen:\\n\", eig_vals1)\n",
        "print(\"Vektor Eigen:\\n\", eig_vecs1)"
      ],
      "metadata": {
        "colab": {
          "base_uri": "https://localhost:8080/"
        },
        "id": "fwDwkkihZoVy",
        "outputId": "0e97fd2a-cc7b-4720-b41d-90ef14b4f984"
      },
      "execution_count": 595,
      "outputs": [
        {
          "output_type": "stream",
          "name": "stdout",
          "text": [
            "Nilai Eigen:\n",
            " [1.00961538 0.        ]\n",
            "Vektor Eigen:\n",
            " [[ 0.99540903  0.09950372]\n",
            " [-0.09571241  0.99503719]]\n"
          ]
        }
      ]
    },
    {
      "cell_type": "code",
      "source": [
        "# Memilih indeks nilai eigen tertinggi\n",
        "idx1 = np.argmax(eig_vals1)\n",
        "\n",
        "# Memilih vektor eigen yang sesuai dengan nilai eigen tertinggi\n",
        "w1 = eig_vecs1[:, idx1]\n",
        "\n",
        "# Menampilkan vektor proyeksi\n",
        "print(\"Vektor Proyeksi (w):\\n\", w1)"
      ],
      "metadata": {
        "colab": {
          "base_uri": "https://localhost:8080/"
        },
        "id": "T0b1m5HxZynr",
        "outputId": "d450fec9-0d80-47b7-d5f1-badaeb7e1e32"
      },
      "execution_count": 596,
      "outputs": [
        {
          "output_type": "stream",
          "name": "stdout",
          "text": [
            "Vektor Proyeksi (w):\n",
            " [ 0.99540903 -0.09571241]\n"
          ]
        }
      ]
    },
    {
      "cell_type": "code",
      "source": [
        "# Memproyeksikan data ke dimensi yang lebih rendah\n",
        "C_lda1 = C.dot(w1)\n",
        "\n",
        "# Menampilkan data setelah proyeksi LDA\n",
        "print(\"Data setelah proyeksi LDA:\\n\", C_lda1)"
      ],
      "metadata": {
        "colab": {
          "base_uri": "https://localhost:8080/"
        },
        "id": "9Dpa6EONZ4Fz",
        "outputId": "f236ae0f-f514-4081-f0cc-acb79aa801f6"
      },
      "execution_count": 597,
      "outputs": [
        {
          "output_type": "stream",
          "name": "stdout",
          "text": [
            "Data setelah proyeksi LDA:\n",
            " [0.70827181 1.79939324 2.60337746 4.88133274 1.70368084 3.6944989\n",
            " 0.80398422 2.79480227 3.88592371 4.59419552]\n"
          ]
        }
      ]
    },
    {
      "cell_type": "code",
      "source": [
        "# Membuat model LDA dengan 1 komponen\n",
        "lda1 = LinearDiscriminantAnalysis(n_components=1)\n",
        "\n",
        "# Memproyeksikan data menggunakan LDA Scikit-Learn\n",
        "C_lda_sklearn = lda1.fit_transform(C, d)\n",
        "\n",
        "# Menampilkan data setelah proyeksi LDA\n",
        "print(\"Data setelah proyeksi LDA (Scikit-Learn):\\n\", C_lda_sklearn)"
      ],
      "metadata": {
        "colab": {
          "base_uri": "https://localhost:8080/"
        },
        "id": "fP7KAO3GaGIL",
        "outputId": "601870c2-dbcd-4cd5-97bb-ad93bc97f39c"
      },
      "execution_count": 598,
      "outputs": [
        {
          "output_type": "stream",
          "name": "stdout",
          "text": [
            "Data setelah proyeksi LDA (Scikit-Learn):\n",
            " [[-1.8231117 ]\n",
            " [-0.84736178]\n",
            " [-0.12838815]\n",
            " [ 1.9087038 ]\n",
            " [-0.93295387]\n",
            " [ 0.84736178]\n",
            " [-1.7375196 ]\n",
            " [ 0.04279605]\n",
            " [ 1.01854597]\n",
            " [ 1.6519275 ]]\n"
          ]
        }
      ]
    },
    {
      "cell_type": "code",
      "source": [
        "import matplotlib.pyplot as plt\n",
        "\n",
        "# Plot data sebelum LDA\n",
        "plt.figure(figsize=(10, 5))\n",
        "plt.subplot(1, 2, 1)\n",
        "plt.scatter(C[d == 'X', 0], C[d == 'X', 1], label='Kelas X')\n",
        "plt.scatter(C[d == 'Y', 0], C[d == 'Y', 1], label='Kelas Y')\n",
        "plt.xlabel('X1')\n",
        "plt.ylabel('X2')\n",
        "plt.title('Data Sebelum LDA')\n",
        "plt.legend()\n",
        "\n",
        "# Plot data sesudah LDA\n",
        "plt.subplot(1, 2, 2)\n",
        "plt.scatter(C_lda1[d == 'X'], np.zeros_like(C_lda1[d == 'X']), label='Kelas X')\n",
        "plt.scatter(C_lda1[d == 'Y'], np.zeros_like(C_lda1[d == 'Y']), label='Kelas Y')\n",
        "plt.xlabel('Dimensi LDA')\n",
        "plt.title('Data Sesudah LDA')\n",
        "plt.legend()\n",
        "\n",
        "plt.tight_layout()\n",
        "plt.show()"
      ],
      "metadata": {
        "colab": {
          "base_uri": "https://localhost:8080/",
          "height": 430
        },
        "id": "pEgrankua85M",
        "outputId": "da672894-a587-4575-aec2-0ab3965372c0"
      },
      "execution_count": 599,
      "outputs": [
        {
          "output_type": "display_data",
          "data": {
            "text/plain": [
              "<Figure size 1000x500 with 2 Axes>"
            ],
            "image/png": "[encoded data removed]"
          },
          "metadata": {}
        }
      ]
    },
    {
      "cell_type": "code",
      "source": [
        "import matplotlib.pyplot as plt\n",
        "\n",
        "# Plot data sebelum LDA\n",
        "plt.figure(figsize=(10, 5))\n",
        "plt.subplot(1, 2, 1)\n",
        "plt.scatter(C[d == 'X', 0], C[d == 'X', 1], label='Kelas X')\n",
        "plt.scatter(C[d == 'Y', 0], C[d == 'Y', 1], label='Kelas Y')\n",
        "plt.xlabel('X1')\n",
        "plt.ylabel('X2')\n",
        "plt.title('Data Sebelum LDA')\n",
        "plt.legend()\n",
        "\n",
        "# Plot data sesudah LDA\n",
        "plt.subplot(1, 2, 2)\n",
        "plt.scatter(C_lda_sklearn[d == 'X'], np.zeros_like(C_lda_sklearn[d == 'X']), label='Kelas X')\n",
        "plt.scatter(C_lda_sklearn[d == 'Y'], np.zeros_like(C_lda_sklearn[d == 'Y']), label='Kelas Y')\n",
        "plt.xlabel('Dimensi LDA')\n",
        "plt.title('Data Sesudah LDA')\n",
        "plt.legend()\n",
        "\n",
        "plt.tight_layout()\n",
        "plt.show()"
      ],
      "metadata": {
        "colab": {
          "base_uri": "https://localhost:8080/",
          "height": 429
        },
        "id": "BfqfdZ91aTY8",
        "outputId": "adb2b34c-10c6-4b59-f99d-3f01c9bd0078"
      },
      "execution_count": 600,
      "outputs": [
        {
          "output_type": "display_data",
          "data": {
            "text/plain": [
              "<Figure size 1000x500 with 2 Axes>"
            ],
            "image/png": "[encoded data removed]"
          },
          "metadata": {}
        }
      ]
    }
  ]
}